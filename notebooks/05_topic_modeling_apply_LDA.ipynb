{
 "cells": [
  {
   "cell_type": "markdown",
   "metadata": {},
   "source": [
    "## References"
   ]
  },
  {
   "cell_type": "code",
   "execution_count": null,
   "metadata": {},
   "outputs": [],
   "source": [
    "# https://towardsdatascience.com/topic-modeling-and-latent-dirichlet-allocation-in-python-9bf156893c24\n",
    "# https://radimrehurek.com/gensim/models/ldamodel.html"
   ]
  },
  {
   "cell_type": "markdown",
   "metadata": {},
   "source": [
    "# Notebook Setup"
   ]
  },
  {
   "cell_type": "code",
   "execution_count": null,
   "metadata": {},
   "outputs": [],
   "source": [
    "# Import libraries\n",
    "import logging\n",
    "import matplotlib.pyplot as plt\n",
    "import numpy as np\n",
    "import os\n",
    "import pandas as pd\n",
    "import pickle\n",
    "from gensim import corpora, models"
   ]
  },
  {
   "cell_type": "code",
   "execution_count": null,
   "metadata": {},
   "outputs": [],
   "source": [
    "# Log events\n",
    "logging.basicConfig(format='%(asctime)s : %(levelname)s : %(message)s', level=logging.INFO)"
   ]
  },
  {
   "cell_type": "markdown",
   "metadata": {},
   "source": [
    "## Load Test Documents"
   ]
  },
  {
   "cell_type": "code",
   "execution_count": null,
   "metadata": {},
   "outputs": [],
   "source": [
    "# Load district documents for first objective\n",
    "with open(\"../outputs/tokenized_documents_district_pooling.p\", \"rb\") as fp:\n",
    "    district_pooling_docs = pickle.load(fp)\n",
    "\n",
    "# Load month documents for second objective\n",
    "# this one is not used\n",
    "with open(\"../outputs/tokenized_documents_month_pooling.p\", \"rb\") as fp:\n",
    "    month_pooling_docs = pickle.load(fp)\n",
    "\n",
    "# Load month and district documents for second objective\n",
    "with open(\"../outputs/tokenized_documents_district_per_month_pooling.p\", \"rb\") as fp:\n",
    "    district_per_month_pooling_docs = pickle.load(fp)"
   ]
  },
  {
   "cell_type": "markdown",
   "metadata": {},
   "source": [
    "## Load Model and Dictionary"
   ]
  },
  {
   "cell_type": "code",
   "execution_count": null,
   "metadata": {},
   "outputs": [],
   "source": [
    "# Load model\n",
    "lda_model =  models.LdaModel.load(\"../outputs/lda_model_hashtag_pooling.model\")\n",
    "\n",
    "# load dictionary\n",
    "if (os.path.exists(\"../outputs/tourism_hashtag_pooling.dict\")):\n",
    "   dictionary = corpora.Dictionary.load(\"../outputs/tourism_hashtag_pooling.dict\")\n",
    "   print(\"Hashtag pooling dictionary loaded!\")\n",
    "else:\n",
    "   print(\"Please train LDA model first!\")"
   ]
  },
  {
   "cell_type": "markdown",
   "metadata": {},
   "source": [
    "## Running Model on Test Documents"
   ]
  },
  {
   "cell_type": "code",
   "execution_count": null,
   "metadata": {},
   "outputs": [],
   "source": [
    "# Apply model to district pooled documents and get topic probability distributions\n",
    "district_bow_list = [dictionary.doc2bow(text) for text in district_pooling_docs]\n",
    "# district_1 = district_bow_list[0] # example code\n",
    "district_topic_list = []\n",
    "\n",
    "for index in range(len(district_bow_list)):\n",
    "    district_bow = district_bow_list[index]\n",
    "    topic_vector = lda_model[district_bow] # get topic probability distribution for a document\n",
    "    district_topic_list.append(topic_vector)"
   ]
  },
  {
   "cell_type": "code",
   "execution_count": null,
   "metadata": {},
   "outputs": [],
   "source": [
    "# Display district topic list\n",
    "district_topic_list"
   ]
  },
  {
   "cell_type": "markdown",
   "metadata": {},
   "source": [
    "## Extract for Each Topic the Scores of the Districts"
   ]
  },
  {
   "cell_type": "code",
   "execution_count": null,
   "metadata": {},
   "outputs": [],
   "source": [
    "# Initialize topic lists\n",
    "topic0 = []\n",
    "topic1 = []\n",
    "topic2 = []\n",
    "topic3 = []\n",
    "topic4 = []\n",
    "topic5 = []\n",
    "topic6 = []\n",
    "\n",
    "# Save results in topic lists\n",
    "for district in range(len(district_topic_list)):\n",
    "    district_dict = dict(district_topic_list[district])\n",
    "    \n",
    "    if 0 in district_dict.keys():\n",
    "        topic0.append(district_dict[0])\n",
    "    else:\n",
    "        topic0.append(0)\n",
    "    \n",
    "    if 1 in district_dict.keys():\n",
    "        topic1.append(district_dict[1])\n",
    "    else:\n",
    "        topic1.append(0)\n",
    "    \n",
    "    if 2 in district_dict.keys():\n",
    "        topic2.append(district_dict[2])\n",
    "    else:\n",
    "        topic2.append(0)\n",
    "        \n",
    "    if 3 in district_dict.keys():\n",
    "        topic3.append(district_dict[3])\n",
    "    else:\n",
    "        topic3.append(0)\n",
    "        \n",
    "    if 4 in district_dict.keys():\n",
    "        topic4.append(district_dict[4])\n",
    "    else:\n",
    "        topic4.append(0)\n",
    "        \n",
    "    if 5 in district_dict.keys():\n",
    "        topic5.append(district_dict[5])\n",
    "    else:\n",
    "        topic5.append(0)\n",
    "    \n",
    "    if 6 in district_dict.keys():\n",
    "        topic6.append(district_dict[6])\n",
    "    else:\n",
    "        topic6.append(0)"
   ]
  },
  {
   "cell_type": "code",
   "execution_count": null,
   "metadata": {},
   "outputs": [],
   "source": [
    "# Check topic 0 to see whether the output looks as desired\n",
    "topic0"
   ]
  },
  {
   "cell_type": "code",
   "execution_count": null,
   "metadata": {},
   "outputs": [],
   "source": [
    "# Define function to plot a graph to compare districts for a given topic\n",
    "def district_bar_graph(districts, indices):\n",
    "    \"\"\"\n",
    "    Function to plot district bar graph.\n",
    "    \n",
    "    districts: list with topic scores for each district\n",
    "    indices: list of district number\n",
    "    \"\"\"\n",
    "    assert len(districts) == len(indices)\n",
    "    n = len(districts)\n",
    "    x = np.arange(n)\n",
    "    plt.figure(figsize=(10,7))\n",
    "    plt.bar(x, districts, width=0.5, tick_label=indices, align=\"center\")\n",
    "    plt.xlabel(\"District\")\n",
    "    plt.ylabel(\"Topic Score\")"
   ]
  },
  {
   "cell_type": "markdown",
   "metadata": {},
   "source": [
    "## Topic 0: Sports, Health & Image"
   ]
  },
  {
   "cell_type": "code",
   "execution_count": null,
   "metadata": {},
   "outputs": [],
   "source": [
    "# Plot topic scores\n",
    "district_bar_graph(topic0,\n",
    "                   list(range(len(topic0))))\n",
    "plt.show()"
   ]
  },
  {
   "cell_type": "markdown",
   "metadata": {},
   "source": [
    "## Topic 1: Lifestyle & Culture"
   ]
  },
  {
   "cell_type": "code",
   "execution_count": null,
   "metadata": {},
   "outputs": [],
   "source": [
    "# Plot topic scores\n",
    "district_bar_graph(topic1,\n",
    "                   list(range(len(topic1))))\n",
    "plt.show()"
   ]
  },
  {
   "cell_type": "markdown",
   "metadata": {},
   "source": [
    "## Topic 2: Nightlife"
   ]
  },
  {
   "cell_type": "code",
   "execution_count": null,
   "metadata": {},
   "outputs": [],
   "source": [
    "# Plot topic scores\n",
    "district_bar_graph(topic2,\n",
    "                   list(range(len(topic2))))\n",
    "plt.show()"
   ]
  },
  {
   "cell_type": "markdown",
   "metadata": {},
   "source": [
    "## Topic 3: Streetart"
   ]
  },
  {
   "cell_type": "code",
   "execution_count": null,
   "metadata": {},
   "outputs": [],
   "source": [
    "# Plot topic scores\n",
    "district_bar_graph(topic3,\n",
    "                   list(range(len(topic3))))\n",
    "plt.show()"
   ]
  },
  {
   "cell_type": "markdown",
   "metadata": {},
   "source": [
    "## Topic 4: Sightseeing"
   ]
  },
  {
   "cell_type": "code",
   "execution_count": null,
   "metadata": {},
   "outputs": [],
   "source": [
    "# Plot topic scores\n",
    "district_bar_graph(topic4,\n",
    "                   list(range(len(topic4))))\n",
    "plt.show()"
   ]
  },
  {
   "cell_type": "markdown",
   "metadata": {},
   "source": [
    "## Topic 5: Summer, Sun & Friends"
   ]
  },
  {
   "cell_type": "code",
   "execution_count": null,
   "metadata": {},
   "outputs": [],
   "source": [
    "# Plot topic scores\n",
    "district_bar_graph(topic5,\n",
    "                   list(range(len(topic5))))\n",
    "plt.show()"
   ]
  },
  {
   "cell_type": "markdown",
   "metadata": {},
   "source": [
    "## Topic 6: Everyday Life"
   ]
  },
  {
   "cell_type": "code",
   "execution_count": null,
   "metadata": {},
   "outputs": [],
   "source": [
    "# Plot topic scores\n",
    "district_bar_graph(topic6,\n",
    "                   list(range(len(topic6))))\n",
    "plt.show()"
   ]
  },
  {
   "cell_type": "markdown",
   "metadata": {},
   "source": [
    "## Combine Results into a Dataframe"
   ]
  },
  {
   "cell_type": "code",
   "execution_count": null,
   "metadata": {},
   "outputs": [],
   "source": [
    "# Create districts dataframe\n",
    "dictionary_districts = {\"district\": [\"01\",\"02\",\"03\",\"04\",\"05\",\"06\",\"07\",\"08\",\"09\",\"10\"],\n",
    "              \"topic0\": topic0,\n",
    "              \"topic1\": topic1,\n",
    "              \"topic2\": topic2,\n",
    "              \"topic3\": topic3,\n",
    "              \"topic4\": topic4,\n",
    "              \"topic5\": topic5,\n",
    "              \"topic6\": topic6}\n",
    "districts = pd.DataFrame(dictionary_districts)"
   ]
  },
  {
   "cell_type": "code",
   "execution_count": null,
   "metadata": {},
   "outputs": [],
   "source": [
    "# Ignore this part\n",
    "\n",
    "# display dataframe and set index\n",
    "# districts.set_index(\"district\")"
   ]
  },
  {
   "cell_type": "markdown",
   "metadata": {},
   "source": [
    "## Save Results to a CSV File"
   ]
  },
  {
   "cell_type": "code",
   "execution_count": null,
   "metadata": {},
   "outputs": [],
   "source": [
    "# Ignore this part! (not necessary, is now done in the R script instead!)\n",
    "\n",
    "# Ensure that excel will not delete leading 0s\n",
    "# districts.district = districts.district.apply('\"={}\"'.format)\n",
    "# districts.district = districts.district.apply(lambda x: str(x))"
   ]
  },
  {
   "cell_type": "code",
   "execution_count": null,
   "metadata": {},
   "outputs": [],
   "source": [
    "# Display dataframe\n",
    "districts"
   ]
  },
  {
   "cell_type": "code",
   "execution_count": null,
   "metadata": {},
   "outputs": [],
   "source": [
    "districts.to_csv(\"districts.csv\", encoding=\"utf-8\")"
   ]
  },
  {
   "cell_type": "markdown",
   "metadata": {},
   "source": [
    "## Next Part: Dynamic Analysis"
   ]
  },
  {
   "cell_type": "code",
   "execution_count": null,
   "metadata": {},
   "outputs": [],
   "source": [
    "# View district per month docs\n",
    "district_per_month_pooling_docs"
   ]
  },
  {
   "cell_type": "code",
   "execution_count": null,
   "metadata": {},
   "outputs": [],
   "source": [
    "# Delete last 2 docs (december)\n",
    "del(district_per_month_pooling_docs[-1])\n",
    "del(district_per_month_pooling_docs[-1])\n",
    "len(district_per_month_pooling_docs)"
   ]
  },
  {
   "cell_type": "code",
   "execution_count": null,
   "metadata": {},
   "outputs": [],
   "source": [
    "# Define function to apply the model to unseen documents (similar procedure to above where it was applied to the district docs)\n",
    "def run_lda_on_test_doc(docs):\n",
    "    bow_list = [dictionary.doc2bow(text) for text in docs]\n",
    "    topic_list = []\n",
    "    \n",
    "    for index in range(len(bow_list)):\n",
    "        bow = bow_list[index]\n",
    "        topic_vec = lda_model[bow]\n",
    "        topic_list.append(topic_vec)\n",
    "        \n",
    "    return topic_list"
   ]
  },
  {
   "cell_type": "code",
   "execution_count": null,
   "metadata": {},
   "outputs": [],
   "source": [
    "# Apply the model on dynamic data\n",
    "# topics_month = run_lda_on_test_doc(month_pooling_docs)\n",
    "topics_district_per_month = run_lda_on_test_doc(district_per_month_pooling_docs)"
   ]
  },
  {
   "cell_type": "code",
   "execution_count": null,
   "metadata": {},
   "outputs": [],
   "source": [
    "# Display district per month topic list\n",
    "topics_district_per_month"
   ]
  },
  {
   "cell_type": "code",
   "execution_count": null,
   "metadata": {},
   "outputs": [],
   "source": [
    "# Initialize lists for topics\n",
    "md_topic0 = []\n",
    "md_topic1 = []\n",
    "md_topic2 = []\n",
    "md_topic3 = []\n",
    "md_topic4 = []\n",
    "md_topic5 = []\n",
    "md_topic6 = []\n",
    "\n",
    "# Store results in topic lists\n",
    "for month_district in range(len(topics_district_per_month)):\n",
    "    district_month_dict = dict(topics_district_per_month[month_district])\n",
    "    \n",
    "    if 0 in district_month_dict.keys():\n",
    "        md_topic0.append(district_month_dict[0])\n",
    "    else:\n",
    "        md_topic0.append(0)\n",
    "    \n",
    "    if 1 in district_month_dict.keys():\n",
    "        md_topic1.append(district_month_dict[1])\n",
    "    else:\n",
    "        md_topic1.append(0)\n",
    "    \n",
    "    if 2 in district_month_dict.keys():\n",
    "        md_topic2.append(district_month_dict[2])\n",
    "    else:\n",
    "        md_topic2.append(0)\n",
    "        \n",
    "    if 3 in district_month_dict.keys():\n",
    "        md_topic3.append(district_month_dict[3])\n",
    "    else:\n",
    "        md_topic3.append(0)\n",
    "        \n",
    "    if 4 in district_month_dict.keys():\n",
    "        md_topic4.append(district_month_dict[4])\n",
    "    else:\n",
    "        md_topic4.append(0)\n",
    "        \n",
    "    if 5 in district_month_dict.keys():\n",
    "        md_topic5.append(district_month_dict[5])\n",
    "    else:\n",
    "        md_topic5.append(0)\n",
    "    \n",
    "    if 6 in district_month_dict.keys():\n",
    "        md_topic6.append(district_month_dict[6])\n",
    "    else:\n",
    "        md_topic6.append(0)"
   ]
  },
  {
   "cell_type": "code",
   "execution_count": null,
   "metadata": {},
   "outputs": [],
   "source": [
    "# Prepare lists with 'index'\n",
    "district_list = [\"01\",\"02\",\"03\",\"04\",\"05\",\"06\",\"07\",\"08\",\"09\",\"10\"] * 6\n",
    "month_list = [\"06\"] * 10 + [\"07\"] * 10 + [\"08\"] * 10 + [\"09\"] * 10 + [\"10\"] * 10 + [\"11\"] * 10"
   ]
  },
  {
   "cell_type": "code",
   "execution_count": null,
   "metadata": {},
   "outputs": [],
   "source": [
    "# Create districts per month dataframe\n",
    "md_dictionary = {\"district\": district_list,\n",
    "              \"month\": month_list,\n",
    "              \"topic0\": md_topic0,\n",
    "              \"topic1\": md_topic1,\n",
    "              \"topic2\": md_topic2,\n",
    "              \"topic3\": md_topic3,\n",
    "              \"topic4\": md_topic4,\n",
    "              \"topic5\": md_topic5,\n",
    "              \"topic6\": md_topic6}\n",
    "month_districts = pd.DataFrame(md_dictionary)"
   ]
  },
  {
   "cell_type": "code",
   "execution_count": null,
   "metadata": {},
   "outputs": [],
   "source": [
    "# Display districts per month dataframe\n",
    "month_districts"
   ]
  },
  {
   "cell_type": "markdown",
   "metadata": {},
   "source": [
    "## Save Results to a CSV File"
   ]
  },
  {
   "cell_type": "code",
   "execution_count": null,
   "metadata": {},
   "outputs": [],
   "source": [
    "month_districts.to_csv(\"../outputs/month_districts.csv\", encoding=\"utf-8\")"
   ]
  },
  {
   "cell_type": "code",
   "execution_count": null,
   "metadata": {},
   "outputs": [],
   "source": [
    "# Verify results\n",
    "topics_district_per_month[10] # month 7, district 1"
   ]
  },
  {
   "cell_type": "code",
   "execution_count": null,
   "metadata": {},
   "outputs": [],
   "source": [
    "# Verify results\n",
    "district_per_month_pooling_docs[10] # month 7, district 1"
   ]
  }
 ],
 "metadata": {
  "kernelspec": {
   "display_name": "esade-topic-analysis-twitter",
   "language": "python",
   "name": "esade-topic-analysis-twitter"
  },
  "language_info": {
   "codemirror_mode": {
    "name": "ipython",
    "version": 3
   },
   "file_extension": ".py",
   "mimetype": "text/x-python",
   "name": "python",
   "nbconvert_exporter": "python",
   "pygments_lexer": "ipython3",
   "version": "3.7.1"
  }
 },
 "nbformat": 4,
 "nbformat_minor": 2
}
