{
 "cells": [
  {
   "cell_type": "markdown",
   "metadata": {},
   "source": [
    "## References"
   ]
  },
  {
   "cell_type": "code",
   "execution_count": 2,
   "metadata": {
    "collapsed": true
   },
   "outputs": [],
   "source": [
    "# https://towardsdatascience.com/topic-modeling-and-latent-dirichlet-allocation-in-python-9bf156893c24\n",
    "# https://radimrehurek.com/gensim/models/ldamodel.html"
   ]
  },
  {
   "cell_type": "markdown",
   "metadata": {},
   "source": [
    "## Prepare Notebook"
   ]
  },
  {
   "cell_type": "code",
   "execution_count": 3,
   "metadata": {},
   "outputs": [
    {
     "name": "stderr",
     "output_type": "stream",
     "text": [
      "C:\\Users\\Sebastian Birk\\Anaconda3\\lib\\site-packages\\gensim\\utils.py:1209: UserWarning: detected Windows; aliasing chunkize to chunkize_serial\n",
      "  warnings.warn(\"detected Windows; aliasing chunkize to chunkize_serial\")\n"
     ]
    }
   ],
   "source": [
    "# import packages\n",
    "from gensim import models\n",
    "import pandas as pd\n",
    "import pickle\n",
    "import logging\n",
    "import os\n",
    "from gensim import corpora, models\n",
    "import numpy as np\n",
    "import matplotlib.pyplot as plt"
   ]
  },
  {
   "cell_type": "code",
   "execution_count": 4,
   "metadata": {
    "collapsed": true
   },
   "outputs": [],
   "source": [
    "# log events\n",
    "logging.basicConfig(format='%(asctime)s : %(levelname)s : %(message)s', level=logging.INFO)"
   ]
  },
  {
   "cell_type": "markdown",
   "metadata": {},
   "source": [
    "## Load Test Documents"
   ]
  },
  {
   "cell_type": "code",
   "execution_count": 5,
   "metadata": {},
   "outputs": [],
   "source": [
    "# load district documents for first objective\n",
    "with open('tokenized_documents_district_pooling.p', 'rb') as fp:\n",
    "    district_pooling_docs = pickle.load(fp)\n",
    "\n",
    "# load month documents for second objective\n",
    "with open('tokenized_documents_month_pooling.p', 'rb') as fp:\n",
    "    month_pooling_docs = pickle.load(fp)\n",
    "\n",
    "# load month and district documents for second objective\n",
    "with open('tokenized_documents_district_per_month_pooling.p', 'rb') as fp:\n",
    "    district_per_month_pooling_docs = pickle.load(fp)"
   ]
  },
  {
   "cell_type": "markdown",
   "metadata": {},
   "source": [
    "## Load Model and Dictionary"
   ]
  },
  {
   "cell_type": "code",
   "execution_count": 6,
   "metadata": {},
   "outputs": [
    {
     "name": "stderr",
     "output_type": "stream",
     "text": [
      "2018-09-26 16:38:14,058 : INFO : loading LdaModel object from lda.model\n",
      "2018-09-26 16:38:14,063 : INFO : loading expElogbeta from lda.model.expElogbeta.npy with mmap=None\n",
      "2018-09-26 16:38:14,069 : INFO : setting ignored attribute dispatcher to None\n",
      "2018-09-26 16:38:14,071 : INFO : setting ignored attribute id2word to None\n",
      "2018-09-26 16:38:14,073 : INFO : setting ignored attribute state to None\n",
      "2018-09-26 16:38:14,075 : INFO : loaded lda.model\n",
      "2018-09-26 16:38:14,076 : INFO : loading LdaState object from lda.model.state\n",
      "2018-09-26 16:38:14,084 : INFO : loaded lda.model.state\n",
      "2018-09-26 16:38:14,093 : INFO : loading Dictionary object from tourism_hashtag_pooling.dict\n",
      "2018-09-26 16:38:14,102 : INFO : loaded tourism_hashtag_pooling.dict\n"
     ]
    },
    {
     "name": "stdout",
     "output_type": "stream",
     "text": [
      "Hashtag pooling dictionary loaded!\n"
     ]
    }
   ],
   "source": [
    "# load model\n",
    "lda_model =  models.LdaModel.load('lda.model')\n",
    "\n",
    "# load dictionary\n",
    "if (os.path.exists(\"tourism_hashtag_pooling.dict\")):\n",
    "   dictionary = corpora.Dictionary.load('tourism_hashtag_pooling.dict')\n",
    "   print(\"Hashtag pooling dictionary loaded!\")\n",
    "else:\n",
    "   print(\"Please train LDA model first!\")"
   ]
  },
  {
   "cell_type": "markdown",
   "metadata": {},
   "source": [
    "## Running Model on Test Documents"
   ]
  },
  {
   "cell_type": "code",
   "execution_count": 7,
   "metadata": {
    "collapsed": true
   },
   "outputs": [],
   "source": [
    "# apply model to district pooled documents and get topic probability distributions\n",
    "district_bow_list = [dictionary.doc2bow(text) for text in district_pooling_docs]\n",
    "# district_1 = district_bow_list[0]\n",
    "district_topic_list = []\n",
    "\n",
    "for index in range(len(district_bow_list)):\n",
    "    district_bow = district_bow_list[index]\n",
    "    topic_vector = lda_model[district_bow] # get topic probability distribution for a document\n",
    "    district_topic_list.append(topic_vector)"
   ]
  },
  {
   "cell_type": "code",
   "execution_count": 8,
   "metadata": {},
   "outputs": [
    {
     "data": {
      "text/plain": [
       "[[(0, 0.04727041),\n",
       "  (1, 0.20795411),\n",
       "  (2, 0.10557274),\n",
       "  (3, 0.077963635),\n",
       "  (4, 0.21521024),\n",
       "  (5, 0.069285311),\n",
       "  (6, 0.1925519),\n",
       "  (7, 0.084191695)],\n",
       " [(0, 0.053166904),\n",
       "  (1, 0.10703449),\n",
       "  (2, 0.065160051),\n",
       "  (3, 0.038423777),\n",
       "  (4, 0.068487175),\n",
       "  (5, 0.055348381),\n",
       "  (6, 0.55378163),\n",
       "  (7, 0.058597565)],\n",
       " [(0, 0.069797918),\n",
       "  (1, 0.16301768),\n",
       "  (2, 0.077833071),\n",
       "  (3, 0.17151947),\n",
       "  (4, 0.14911883),\n",
       "  (5, 0.097291537),\n",
       "  (6, 0.1844978),\n",
       "  (7, 0.086923704)],\n",
       " [(0, 0.058051869),\n",
       "  (1, 0.24761981),\n",
       "  (2, 0.070514642),\n",
       "  (3, 0.085679673),\n",
       "  (4, 0.11243522),\n",
       "  (5, 0.076013856),\n",
       "  (6, 0.14537925),\n",
       "  (7, 0.20430568)],\n",
       " [(0, 0.080009297),\n",
       "  (1, 0.15788928),\n",
       "  (2, 0.099436283),\n",
       "  (3, 0.064962387),\n",
       "  (4, 0.13761866),\n",
       "  (5, 0.10922177),\n",
       "  (6, 0.23933949),\n",
       "  (7, 0.11152287)],\n",
       " [(0, 0.075109363),\n",
       "  (1, 0.12771581),\n",
       "  (2, 0.18137199),\n",
       "  (3, 0.084710941),\n",
       "  (4, 0.20841692),\n",
       "  (5, 0.084128439),\n",
       "  (6, 0.18610719),\n",
       "  (7, 0.052439384)],\n",
       " [(0, 0.1468025),\n",
       "  (1, 0.11406162),\n",
       "  (2, 0.12743127),\n",
       "  (3, 0.072802357),\n",
       "  (4, 0.15781781),\n",
       "  (5, 0.052414931),\n",
       "  (6, 0.21064445),\n",
       "  (7, 0.11802503)],\n",
       " [(0, 0.088678338),\n",
       "  (1, 0.15030664),\n",
       "  (2, 0.075208277),\n",
       "  (3, 0.10653941),\n",
       "  (4, 0.16346812),\n",
       "  (5, 0.11254089),\n",
       "  (6, 0.17588273),\n",
       "  (7, 0.1273756)],\n",
       " [(0, 0.056885578),\n",
       "  (1, 0.15848063),\n",
       "  (2, 0.094984695),\n",
       "  (3, 0.090266339),\n",
       "  (4, 0.14278166),\n",
       "  (5, 0.060510781),\n",
       "  (6, 0.31735435),\n",
       "  (7, 0.078735985)],\n",
       " [(0, 0.047781859),\n",
       "  (1, 0.25008523),\n",
       "  (2, 0.081937663),\n",
       "  (3, 0.075497143),\n",
       "  (4, 0.21810697),\n",
       "  (5, 0.1056205),\n",
       "  (6, 0.13415073),\n",
       "  (7, 0.086819902)]]"
      ]
     },
     "execution_count": 8,
     "metadata": {},
     "output_type": "execute_result"
    }
   ],
   "source": [
    "# display district topic list\n",
    "district_topic_list"
   ]
  },
  {
   "cell_type": "markdown",
   "metadata": {},
   "source": [
    "## Extract for Each Topic the Scores of the Districts"
   ]
  },
  {
   "cell_type": "code",
   "execution_count": 9,
   "metadata": {
    "collapsed": true
   },
   "outputs": [],
   "source": [
    "topic0 = []\n",
    "topic1 = []\n",
    "topic2 = []\n",
    "topic3 = []\n",
    "topic4 = []\n",
    "topic5 = []\n",
    "topic6 = []\n",
    "topic7 = []\n",
    "\n",
    "for district in range(len(district_topic_list)):\n",
    "    district_dict = dict(district_topic_list[district])\n",
    "    \n",
    "    if 0 in district_dict.keys():\n",
    "        topic0.append(district_dict[0])\n",
    "    else:\n",
    "        topic0.append(0)\n",
    "    \n",
    "    if 1 in district_dict.keys():\n",
    "        topic1.append(district_dict[1])\n",
    "    else:\n",
    "        topic1.append(0)\n",
    "    \n",
    "    if 2 in district_dict.keys():\n",
    "        topic2.append(district_dict[2])\n",
    "    else:\n",
    "        topic2.append(0)\n",
    "        \n",
    "    if 3 in district_dict.keys():\n",
    "        topic3.append(district_dict[3])\n",
    "    else:\n",
    "        topic3.append(0)\n",
    "        \n",
    "    if 4 in district_dict.keys():\n",
    "        topic4.append(district_dict[4])\n",
    "    else:\n",
    "        topic4.append(0)\n",
    "        \n",
    "    if 5 in district_dict.keys():\n",
    "        topic5.append(district_dict[5])\n",
    "    else:\n",
    "        topic5.append(0)\n",
    "    \n",
    "    if 6 in district_dict.keys():\n",
    "        topic6.append(district_dict[6])\n",
    "    else:\n",
    "        topic6.append(0)\n",
    "        \n",
    "    if 7 in district_dict.keys():\n",
    "        topic7.append(district_dict[7])\n",
    "    else:\n",
    "        topic7.append(0)"
   ]
  },
  {
   "cell_type": "code",
   "execution_count": 10,
   "metadata": {},
   "outputs": [
    {
     "data": {
      "text/plain": [
       "[0.04727041,\n",
       " 0.053166904,\n",
       " 0.069797918,\n",
       " 0.058051869,\n",
       " 0.080009297,\n",
       " 0.075109363,\n",
       " 0.1468025,\n",
       " 0.088678338,\n",
       " 0.056885578,\n",
       " 0.047781859]"
      ]
     },
     "execution_count": 10,
     "metadata": {},
     "output_type": "execute_result"
    }
   ],
   "source": [
    "# check topic 0 to see whether the output looks as desired\n",
    "topic0"
   ]
  },
  {
   "cell_type": "code",
   "execution_count": 13,
   "metadata": {
    "collapsed": true
   },
   "outputs": [],
   "source": [
    "# define function to plot a graph to compare districts for a given topic\n",
    "def district_bar_graph(districts, indices):\n",
    "    \"\"\"\n",
    "    Function to plot district bar graph.\n",
    "    \n",
    "    districts: list with topic scores for each district\n",
    "    indices: list of district number\n",
    "    \"\"\"\n",
    "    assert len(districts) == len(indices)\n",
    "    n = len(districts)\n",
    "    x = np.arange(n)\n",
    "    plt.figure(figsize=(10,7))\n",
    "    plt.bar(x, districts, width=0.5, tick_label=indices, align='center')\n",
    "    plt.xlabel('District')\n",
    "    plt.ylabel('Topic Score')"
   ]
  },
  {
   "cell_type": "markdown",
   "metadata": {},
   "source": [
    "## Topic 0: Fitness & Sports"
   ]
  },
  {
   "cell_type": "code",
   "execution_count": 14,
   "metadata": {},
   "outputs": [
    {
     "data": {
      "image/png": "[encoded data removed]",
      "text/plain": [
       "<matplotlib.figure.Figure at 0x1a4662b9588>"
      ]
     },
     "metadata": {},
     "output_type": "display_data"
    }
   ],
   "source": [
    "# plot topic scores\n",
    "district_bar_graph(topic0,\n",
    "                   list(range(len(topic0))))\n",
    "plt.show()"
   ]
  },
  {
   "cell_type": "markdown",
   "metadata": {},
   "source": [
    "## Topic 1: Summer, Sun, Beach"
   ]
  },
  {
   "cell_type": "code",
   "execution_count": 15,
   "metadata": {},
   "outputs": [
    {
     "data": {
      "image/png": "[encoded data removed]",
      "text/plain": [
       "<matplotlib.figure.Figure at 0x1a465dbdc88>"
      ]
     },
     "metadata": {},
     "output_type": "display_data"
    }
   ],
   "source": [
    "# plot topic scores\n",
    "district_bar_graph(topic1,\n",
    "                   list(range(len(topic1))))\n",
    "plt.show()"
   ]
  },
  {
   "cell_type": "markdown",
   "metadata": {},
   "source": [
    "## Topic 2: Travel"
   ]
  },
  {
   "cell_type": "code",
   "execution_count": 16,
   "metadata": {},
   "outputs": [
    {
     "data": {
      "image/png": "[encoded data removed]",
      "text/plain": [
       "<matplotlib.figure.Figure at 0x1a465dbd390>"
      ]
     },
     "metadata": {},
     "output_type": "display_data"
    }
   ],
   "source": [
    "# plot topic scores\n",
    "district_bar_graph(topic2,\n",
    "                   list(range(len(topic2))))\n",
    "plt.show()"
   ]
  },
  {
   "cell_type": "markdown",
   "metadata": {},
   "source": [
    "## Topic 3: Streetart & Urban Life"
   ]
  },
  {
   "cell_type": "code",
   "execution_count": 17,
   "metadata": {},
   "outputs": [
    {
     "data": {
      "image/png": "[encoded data removed]",
      "text/plain": [
       "<matplotlib.figure.Figure at 0x1a4663ac978>"
      ]
     },
     "metadata": {},
     "output_type": "display_data"
    }
   ],
   "source": [
    "# plot topic scores\n",
    "district_bar_graph(topic3,\n",
    "                   list(range(len(topic3))))\n",
    "plt.show()"
   ]
  },
  {
   "cell_type": "markdown",
   "metadata": {},
   "source": [
    "## Topic 4: Art"
   ]
  },
  {
   "cell_type": "code",
   "execution_count": 18,
   "metadata": {},
   "outputs": [
    {
     "data": {
      "image/png": "[encoded data removed]",
      "text/plain": [
       "<matplotlib.figure.Figure at 0x1a46644be48>"
      ]
     },
     "metadata": {},
     "output_type": "display_data"
    }
   ],
   "source": [
    "# plot topic scores\n",
    "district_bar_graph(topic4,\n",
    "                   list(range(len(topic4))))\n",
    "plt.show()"
   ]
  },
  {
   "cell_type": "markdown",
   "metadata": {},
   "source": [
    "## Topic 5: Lifestyle & Other"
   ]
  },
  {
   "cell_type": "code",
   "execution_count": 19,
   "metadata": {},
   "outputs": [
    {
     "data": {
      "image/png": "[encoded data removed]",
      "text/plain": [
       "<matplotlib.figure.Figure at 0x1a4666ea7f0>"
      ]
     },
     "metadata": {},
     "output_type": "display_data"
    }
   ],
   "source": [
    "# plot topic scores\n",
    "district_bar_graph(topic5,\n",
    "                   list(range(len(topic5))))\n",
    "plt.show()"
   ]
  },
  {
   "cell_type": "markdown",
   "metadata": {},
   "source": [
    "## Topic 6: Sightseeing"
   ]
  },
  {
   "cell_type": "code",
   "execution_count": 20,
   "metadata": {},
   "outputs": [
    {
     "data": {
      "image/png": "[encoded data removed]",
      "text/plain": [
       "<matplotlib.figure.Figure at 0x1a46672d438>"
      ]
     },
     "metadata": {},
     "output_type": "display_data"
    }
   ],
   "source": [
    "# plot topic scores\n",
    "district_bar_graph(topic6,\n",
    "                   list(range(len(topic6))))\n",
    "plt.show()"
   ]
  },
  {
   "cell_type": "markdown",
   "metadata": {},
   "source": [
    "## Topic 7: Gastronomy"
   ]
  },
  {
   "cell_type": "code",
   "execution_count": 21,
   "metadata": {},
   "outputs": [
    {
     "data": {
      "image/png": "[encoded data removed]",
      "text/plain": [
       "<matplotlib.figure.Figure at 0x1a4666e1ac8>"
      ]
     },
     "metadata": {},
     "output_type": "display_data"
    }
   ],
   "source": [
    "# plot topic scores\n",
    "district_bar_graph(topic7,\n",
    "                   list(range(len(topic7))))\n",
    "plt.show()"
   ]
  },
  {
   "cell_type": "code",
   "execution_count": 22,
   "metadata": {
    "collapsed": true
   },
   "outputs": [],
   "source": [
    "# define function to apply the model to unseen documents (similar procedure to above where it was applied to the district docs)\n",
    "def run_lda_on_test_doc(docs):\n",
    "    bow_list = [dictionary.doc2bow(text) for text in docs]\n",
    "    topic_list = []\n",
    "    \n",
    "    for index in range(len(bow_list)):\n",
    "        bow = bow_list[index]\n",
    "        topic_vector = lda_model[bow]\n",
    "        topic_list.append(topic_vector)\n",
    "        \n",
    "    return topic_list"
   ]
  },
  {
   "cell_type": "code",
   "execution_count": 23,
   "metadata": {
    "collapsed": true
   },
   "outputs": [],
   "source": [
    "topics_month = run_lda_on_test_doc(month_pooling_docs)\n",
    "topics_district_per_month = run_lda_on_test_doc(district_per_month_pooling_docs)"
   ]
  }
 ],
 "metadata": {
  "kernelspec": {
   "display_name": "Python 3",
   "language": "python",
   "name": "python3"
  },
  "language_info": {
   "codemirror_mode": {
    "name": "ipython",
    "version": 3
   },
   "file_extension": ".py",
   "mimetype": "text/x-python",
   "name": "python",
   "nbconvert_exporter": "python",
   "pygments_lexer": "ipython3",
   "version": "3.6.1"
  }
 },
 "nbformat": 4,
 "nbformat_minor": 2
}
