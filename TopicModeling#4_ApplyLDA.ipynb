{
 "cells": [
  {
   "cell_type": "markdown",
   "metadata": {},
   "source": [
    "## References"
   ]
  },
  {
   "cell_type": "code",
   "execution_count": 69,
   "metadata": {
    "collapsed": true
   },
   "outputs": [],
   "source": [
    "# https://towardsdatascience.com/topic-modeling-and-latent-dirichlet-allocation-in-python-9bf156893c24\n",
    "# https://radimrehurek.com/gensim/models/ldamodel.html"
   ]
  },
  {
   "cell_type": "markdown",
   "metadata": {},
   "source": [
    "## Prepare Notebook"
   ]
  },
  {
   "cell_type": "code",
   "execution_count": 95,
   "metadata": {
    "collapsed": true
   },
   "outputs": [],
   "source": [
    "# import packages\n",
    "from gensim import models\n",
    "import pandas as pd\n",
    "import pickle\n",
    "import logging\n",
    "import os\n",
    "from gensim import corpora, models\n",
    "import numpy as np\n",
    "import matplotlib.pyplot as plt"
   ]
  },
  {
   "cell_type": "code",
   "execution_count": 71,
   "metadata": {
    "collapsed": true
   },
   "outputs": [],
   "source": [
    "# log events\n",
    "logging.basicConfig(format='%(asctime)s : %(levelname)s : %(message)s', level=logging.INFO)"
   ]
  },
  {
   "cell_type": "markdown",
   "metadata": {},
   "source": [
    "## Load Test Documents"
   ]
  },
  {
   "cell_type": "code",
   "execution_count": 72,
   "metadata": {
    "collapsed": true
   },
   "outputs": [],
   "source": [
    "# load district documents for first objective\n",
    "with open('tokenized_documents_district_pooling.p', 'rb') as fp:\n",
    "    district_pooling_docs = pickle.load(fp)\n",
    "\n",
    "# load month documents for second objective\n",
    "with open('tokenized_documents_month_pooling.p', 'rb') as fp:\n",
    "    month_pooling_docs = pickle.load(fp)\n",
    "\n",
    "# load month and district documents for second objective\n",
    "with open('tokenized_documents_district_per_month_pooling.p', 'rb') as fp:\n",
    "    district_per_month_pooling_docs = pickle.load(fp)"
   ]
  },
  {
   "cell_type": "markdown",
   "metadata": {},
   "source": [
    "## Load Model and Dictionary"
   ]
  },
  {
   "cell_type": "code",
   "execution_count": 73,
   "metadata": {},
   "outputs": [
    {
     "name": "stderr",
     "output_type": "stream",
     "text": [
      "2018-09-26 08:40:33,862 : INFO : loading LdaModel object from lda.model\n",
      "2018-09-26 08:40:33,866 : INFO : loading expElogbeta from lda.model.expElogbeta.npy with mmap=None\n",
      "2018-09-26 08:40:33,870 : INFO : setting ignored attribute dispatcher to None\n",
      "2018-09-26 08:40:33,870 : INFO : setting ignored attribute id2word to None\n",
      "2018-09-26 08:40:33,874 : INFO : setting ignored attribute state to None\n",
      "2018-09-26 08:40:33,874 : INFO : loaded lda.model\n",
      "2018-09-26 08:40:33,878 : INFO : loading LdaState object from lda.model.state\n",
      "2018-09-26 08:40:33,882 : INFO : loaded lda.model.state\n",
      "2018-09-26 08:40:33,894 : INFO : loading Dictionary object from tourism_hashtag_pooling.dict\n",
      "2018-09-26 08:40:33,902 : INFO : loaded tourism_hashtag_pooling.dict\n"
     ]
    },
    {
     "name": "stdout",
     "output_type": "stream",
     "text": [
      "Hashtag pooling dictionary loaded!\n"
     ]
    }
   ],
   "source": [
    "# load model\n",
    "lda_model =  models.LdaModel.load('lda.model')\n",
    "\n",
    "# load dictionary\n",
    "if (os.path.exists(\"tourism_hashtag_pooling.dict\")):\n",
    "   dictionary = corpora.Dictionary.load('tourism_hashtag_pooling.dict')\n",
    "   print(\"Hashtag pooling dictionary loaded!\")\n",
    "else:\n",
    "   print(\"Please train LDA model first!\")"
   ]
  },
  {
   "cell_type": "markdown",
   "metadata": {},
   "source": [
    "## Running Model on Test Documents"
   ]
  },
  {
   "cell_type": "code",
   "execution_count": 74,
   "metadata": {
    "collapsed": true
   },
   "outputs": [],
   "source": [
    "# apply model to district pooled documents and get topic probability distributions\n",
    "district_bow_list = [dictionary.doc2bow(text) for text in district_pooling_docs]\n",
    "# district_1 = district_bow_list[0]\n",
    "district_topic_list = []\n",
    "\n",
    "for index in range(len(district_bow_list)):\n",
    "    district_bow = district_bow_list[index]\n",
    "    topic_vector = lda_model[district_bow] # get topic probability distribution for a document\n",
    "    district_topic_list.append(topic_vector)"
   ]
  },
  {
   "cell_type": "code",
   "execution_count": 75,
   "metadata": {},
   "outputs": [
    {
     "data": {
      "text/plain": [
       "[[(0, 0.076546676),\n",
       "  (1, 0.14248215),\n",
       "  (2, 0.072030298),\n",
       "  (3, 0.11498991),\n",
       "  (4, 0.22621693),\n",
       "  (5, 0.028519053),\n",
       "  (6, 0.2195864),\n",
       "  (7, 0.11962861)],\n",
       " [(0, 0.036172304),\n",
       "  (1, 0.14472471),\n",
       "  (2, 0.1251428),\n",
       "  (3, 0.090867169),\n",
       "  (4, 0.23936342),\n",
       "  (5, 0.065774553),\n",
       "  (6, 0.23838015),\n",
       "  (7, 0.059574936)],\n",
       " [(0, 0.053951729),\n",
       "  (1, 0.36222401),\n",
       "  (2, 0.080988258),\n",
       "  (3, 0.029328113),\n",
       "  (4, 0.17636307),\n",
       "  (5, 0.083754249),\n",
       "  (6, 0.11593124),\n",
       "  (7, 0.097459316)],\n",
       " [(0, 0.059777047),\n",
       "  (1, 0.17819059),\n",
       "  (2, 0.12977499),\n",
       "  (3, 0.1042411),\n",
       "  (4, 0.11915775),\n",
       "  (5, 0.11625889),\n",
       "  (6, 0.11243489),\n",
       "  (7, 0.18016471)],\n",
       " [(0, 0.015616706),\n",
       "  (1, 0.1901648),\n",
       "  (2, 0.25489697),\n",
       "  (3, 0.065254577),\n",
       "  (4, 0.15272309),\n",
       "  (6, 0.2445455),\n",
       "  (7, 0.076620042)],\n",
       " [(0, 0.027071962),\n",
       "  (1, 0.082043305),\n",
       "  (2, 0.041410301),\n",
       "  (3, 0.021568894),\n",
       "  (4, 0.037068184),\n",
       "  (5, 0.035378076),\n",
       "  (6, 0.72950888),\n",
       "  (7, 0.025950447)],\n",
       " [(0, 0.088502645),\n",
       "  (1, 0.14019118),\n",
       "  (2, 0.10232271),\n",
       "  (3, 0.076250561),\n",
       "  (4, 0.12242527),\n",
       "  (5, 0.14508595),\n",
       "  (6, 0.2304582),\n",
       "  (7, 0.09476348)],\n",
       " [(0, 0.076501504),\n",
       "  (1, 0.19452634),\n",
       "  (2, 0.11835786),\n",
       "  (3, 0.060024299),\n",
       "  (4, 0.18299505),\n",
       "  (5, 0.083152004),\n",
       "  (6, 0.12193454),\n",
       "  (7, 0.16250841)],\n",
       " [(0, 0.13745691),\n",
       "  (1, 0.14275698),\n",
       "  (2, 0.023520729),\n",
       "  (3, 0.092327274),\n",
       "  (4, 0.10566722),\n",
       "  (5, 0.047605284),\n",
       "  (6, 0.068483762),\n",
       "  (7, 0.38218188)],\n",
       " [(0, 0.18532138),\n",
       "  (1, 0.21825841),\n",
       "  (2, 0.11273268),\n",
       "  (3, 0.06360361),\n",
       "  (4, 0.13714467),\n",
       "  (5, 0.048367284),\n",
       "  (6, 0.12552576),\n",
       "  (7, 0.1090462)],\n",
       " [(0, 0.041544177),\n",
       "  (1, 0.17437528),\n",
       "  (2, 0.046249382),\n",
       "  (3, 0.27661327),\n",
       "  (4, 0.16393284),\n",
       "  (5, 0.11167111),\n",
       "  (6, 0.09722615),\n",
       "  (7, 0.088387825)],\n",
       " [(0, 0.088191263),\n",
       "  (1, 0.078810297),\n",
       "  (2, 0.091057286),\n",
       "  (3, 0.080646068),\n",
       "  (4, 0.15069664),\n",
       "  (5, 0.090739824),\n",
       "  (6, 0.33217779),\n",
       "  (7, 0.087680846)],\n",
       " [(0, 0.14565958),\n",
       "  (1, 0.13747755),\n",
       "  (2, 0.015216594),\n",
       "  (3, 0.089773953),\n",
       "  (4, 0.47051629),\n",
       "  (6, 0.031091301),\n",
       "  (7, 0.10130688)],\n",
       " [(0, 0.062451757),\n",
       "  (1, 0.10611671),\n",
       "  (4, 0.29337019),\n",
       "  (5, 0.091848128),\n",
       "  (6, 0.37529126),\n",
       "  (7, 0.06985829)],\n",
       " [(0, 0.090103723),\n",
       "  (1, 0.24094468),\n",
       "  (2, 0.15725651),\n",
       "  (3, 0.10244637),\n",
       "  (4, 0.071216933),\n",
       "  (5, 0.11162233),\n",
       "  (6, 0.13217384),\n",
       "  (7, 0.094235614)],\n",
       " [(0, 0.034305144),\n",
       "  (1, 0.10617513),\n",
       "  (3, 0.44075447),\n",
       "  (4, 0.2592276),\n",
       "  (5, 0.15651822)],\n",
       " [(0, 0.14549321),\n",
       "  (1, 0.37702429),\n",
       "  (2, 0.16614926),\n",
       "  (3, 0.15985586),\n",
       "  (6, 0.14686909)],\n",
       " [(0, 0.042562924),\n",
       "  (1, 0.16646786),\n",
       "  (2, 0.093897268),\n",
       "  (3, 0.1022561),\n",
       "  (4, 0.099427156),\n",
       "  (5, 0.047997698),\n",
       "  (6, 0.36269268),\n",
       "  (7, 0.084698357)],\n",
       " [(0, 0.092890769),\n",
       "  (1, 0.2326238),\n",
       "  (2, 0.062518857),\n",
       "  (3, 0.035357408),\n",
       "  (4, 0.090203561),\n",
       "  (5, 0.11163053),\n",
       "  (6, 0.17150538),\n",
       "  (7, 0.20326966)],\n",
       " [(0, 0.019738793),\n",
       "  (1, 0.35422793),\n",
       "  (2, 0.018675243),\n",
       "  (3, 0.2184024),\n",
       "  (4, 0.1602266),\n",
       "  (5, 0.017811783),\n",
       "  (6, 0.065097868),\n",
       "  (7, 0.14581937)],\n",
       " [(0, 0.049469795),\n",
       "  (1, 0.20201731),\n",
       "  (2, 0.10377921),\n",
       "  (3, 0.05359428),\n",
       "  (4, 0.098652914),\n",
       "  (5, 0.079046443),\n",
       "  (6, 0.17378069),\n",
       "  (7, 0.23965934)],\n",
       " [(0, 0.098415487),\n",
       "  (1, 0.15046506),\n",
       "  (2, 0.10168096),\n",
       "  (3, 0.069158174),\n",
       "  (4, 0.13538301),\n",
       "  (5, 0.087780647),\n",
       "  (6, 0.30145091),\n",
       "  (7, 0.055665769)],\n",
       " [(0, 0.056988705),\n",
       "  (1, 0.15055864),\n",
       "  (2, 0.14349246),\n",
       "  (3, 0.045595564),\n",
       "  (4, 0.13811705),\n",
       "  (5, 0.06450031),\n",
       "  (6, 0.26705259),\n",
       "  (7, 0.13369468)],\n",
       " [(0, 0.040896654),\n",
       "  (1, 0.027510567),\n",
       "  (2, 0.1192671),\n",
       "  (4, 0.29162031),\n",
       "  (5, 0.12664101),\n",
       "  (6, 0.24155979),\n",
       "  (7, 0.15211232)],\n",
       " [(0, 0.065860711),\n",
       "  (1, 0.2098224),\n",
       "  (2, 0.079260103),\n",
       "  (3, 0.058879025),\n",
       "  (4, 0.080403008),\n",
       "  (5, 0.16281365),\n",
       "  (6, 0.24131244),\n",
       "  (7, 0.10164861)],\n",
       " [(0, 0.063268013),\n",
       "  (1, 0.16868447),\n",
       "  (2, 0.15092589),\n",
       "  (3, 0.075749628),\n",
       "  (4, 0.14005663),\n",
       "  (5, 0.1222047),\n",
       "  (6, 0.12052519),\n",
       "  (7, 0.15858549)],\n",
       " [(0, 0.082245111),\n",
       "  (1, 0.11159605),\n",
       "  (2, 0.033597425),\n",
       "  (3, 0.088638492),\n",
       "  (4, 0.20911349),\n",
       "  (5, 0.10159426),\n",
       "  (6, 0.12805702),\n",
       "  (7, 0.24515812)],\n",
       " [(0, 0.036084134),\n",
       "  (1, 0.17813122),\n",
       "  (2, 0.23550954),\n",
       "  (3, 0.088222794),\n",
       "  (4, 0.21104455),\n",
       "  (6, 0.15874898),\n",
       "  (7, 0.091786981)],\n",
       " [(0, 0.13037957),\n",
       "  (1, 0.056553647),\n",
       "  (2, 0.035885379),\n",
       "  (3, 0.063148446),\n",
       "  (4, 0.51562774),\n",
       "  (5, 0.13461606),\n",
       "  (7, 0.062316176)],\n",
       " [(0, 0.074609607),\n",
       "  (1, 0.075849414),\n",
       "  (2, 0.073192835),\n",
       "  (3, 0.068022087),\n",
       "  (4, 0.069892004),\n",
       "  (5, 0.12622984),\n",
       "  (6, 0.48213065),\n",
       "  (7, 0.030073607)],\n",
       " [(0, 0.087715767),\n",
       "  (1, 0.15831074),\n",
       "  (2, 0.13047665),\n",
       "  (3, 0.11318506),\n",
       "  (4, 0.25178936),\n",
       "  (5, 0.071514346),\n",
       "  (6, 0.12925856),\n",
       "  (7, 0.057749547)],\n",
       " [(0, 0.018619172),\n",
       "  (1, 0.086463958),\n",
       "  (2, 0.5742166),\n",
       "  (4, 0.16504164),\n",
       "  (5, 0.059074756),\n",
       "  (6, 0.073032014),\n",
       "  (7, 0.023294114)],\n",
       " [(0, 0.024117475),\n",
       "  (1, 0.038304653),\n",
       "  (2, 0.025661776),\n",
       "  (3, 0.024764344),\n",
       "  (4, 0.03521762),\n",
       "  (5, 0.026605584),\n",
       "  (6, 0.79630768),\n",
       "  (7, 0.02902084)],\n",
       " [(2, 0.60515803), (3, 0.30480736), (7, 0.084039636)],\n",
       " [(0, 0.29768673),\n",
       "  (1, 0.094066508),\n",
       "  (2, 0.17371771),\n",
       "  (3, 0.076037005),\n",
       "  (4, 0.076354325),\n",
       "  (5, 0.06678617),\n",
       "  (6, 0.06898158),\n",
       "  (7, 0.14636996)],\n",
       " [(0, 0.099817015),\n",
       "  (1, 0.081597164),\n",
       "  (2, 0.16966939),\n",
       "  (4, 0.28607973),\n",
       "  (6, 0.084849939),\n",
       "  (7, 0.27647302)],\n",
       " [(0, 0.080153413),\n",
       "  (1, 0.09928792),\n",
       "  (2, 0.19292045),\n",
       "  (3, 0.0550039),\n",
       "  (4, 0.13866781),\n",
       "  (5, 0.065444902),\n",
       "  (6, 0.26622403),\n",
       "  (7, 0.10229757)],\n",
       " [(0, 0.12377448),\n",
       "  (1, 0.27862814),\n",
       "  (3, 0.082107842),\n",
       "  (4, 0.087298431),\n",
       "  (6, 0.15911905),\n",
       "  (7, 0.26823413)],\n",
       " [(0, 0.048663471),\n",
       "  (1, 0.13034825),\n",
       "  (2, 0.065752745),\n",
       "  (3, 0.050285827),\n",
       "  (4, 0.07168065),\n",
       "  (5, 0.048998166),\n",
       "  (6, 0.51855493),\n",
       "  (7, 0.065716028)],\n",
       " [(0, 0.12839335),\n",
       "  (1, 0.091324806),\n",
       "  (2, 0.020697676),\n",
       "  (3, 0.091347963),\n",
       "  (4, 0.34658238),\n",
       "  (5, 0.023467869),\n",
       "  (6, 0.2045314),\n",
       "  (7, 0.093654528)],\n",
       " [(0, 0.039739758),\n",
       "  (1, 0.12679122),\n",
       "  (2, 0.10140676),\n",
       "  (3, 0.074258395),\n",
       "  (4, 0.30702278),\n",
       "  (5, 0.054394942),\n",
       "  (6, 0.19446905),\n",
       "  (7, 0.10191704)],\n",
       " [(0, 0.05092461),\n",
       "  (4, 0.10234023),\n",
       "  (5, 0.060027815),\n",
       "  (6, 0.55479264),\n",
       "  (7, 0.22741364)],\n",
       " [(0, 0.060334433),\n",
       "  (1, 0.090601832),\n",
       "  (3, 0.042676836),\n",
       "  (4, 0.024281476),\n",
       "  (5, 0.3997016),\n",
       "  (6, 0.20957428),\n",
       "  (7, 0.17218681)],\n",
       " [(0, 0.19064277),\n",
       "  (1, 0.15270926),\n",
       "  (3, 0.030271178),\n",
       "  (4, 0.34900475),\n",
       "  (5, 0.010888733),\n",
       "  (7, 0.2656326)],\n",
       " [(3, 0.16305093), (6, 0.01007502), (7, 0.79526561)],\n",
       " [(0, 0.0222305),\n",
       "  (1, 0.06915988),\n",
       "  (2, 0.1404767),\n",
       "  (3, 0.095519796),\n",
       "  (4, 0.20409191),\n",
       "  (5, 0.27946657),\n",
       "  (6, 0.13943909),\n",
       "  (7, 0.049615584)],\n",
       " [(0, 0.037310403),\n",
       "  (1, 0.020572456),\n",
       "  (2, 0.075527415),\n",
       "  (3, 0.21357134),\n",
       "  (4, 0.22431335),\n",
       "  (5, 0.042261299),\n",
       "  (6, 0.33625439),\n",
       "  (7, 0.050189346)],\n",
       " [(1, 0.23900186),\n",
       "  (3, 0.19890279),\n",
       "  (4, 0.37595531),\n",
       "  (5, 0.06906195),\n",
       "  (6, 0.027902409),\n",
       "  (7, 0.088125691)],\n",
       " [(1, 0.40137115),\n",
       "  (2, 0.22260848),\n",
       "  (3, 0.17065148),\n",
       "  (4, 0.15511841),\n",
       "  (6, 0.048046414)],\n",
       " [(0, 0.032726076),\n",
       "  (1, 0.31090188),\n",
       "  (3, 0.029032955),\n",
       "  (4, 0.033013891),\n",
       "  (5, 0.16524562),\n",
       "  (6, 0.058369372),\n",
       "  (7, 0.3698808)],\n",
       " [(0, 0.16029379),\n",
       "  (1, 0.052205149),\n",
       "  (2, 0.047942881),\n",
       "  (3, 0.018609134),\n",
       "  (4, 0.031481884),\n",
       "  (6, 0.55606306),\n",
       "  (7, 0.13290592)],\n",
       " [(0, 0.093033463),\n",
       "  (1, 0.22083707),\n",
       "  (2, 0.10206454),\n",
       "  (3, 0.16262382),\n",
       "  (4, 0.061765026),\n",
       "  (5, 0.092026882),\n",
       "  (6, 0.19279745),\n",
       "  (7, 0.074851736)],\n",
       " [(0, 0.12807548),\n",
       "  (1, 0.19412845),\n",
       "  (2, 0.11461606),\n",
       "  (3, 0.14599892),\n",
       "  (4, 0.18431252),\n",
       "  (5, 0.082698353),\n",
       "  (6, 0.12553555),\n",
       "  (7, 0.02463468)],\n",
       " [(0, 0.024117477),\n",
       "  (1, 0.038304657),\n",
       "  (2, 0.02566178),\n",
       "  (3, 0.024764348),\n",
       "  (4, 0.035217624),\n",
       "  (5, 0.026605586),\n",
       "  (6, 0.047782067),\n",
       "  (7, 0.77754641)],\n",
       " [(0, 0.081719458),\n",
       "  (2, 0.23228508),\n",
       "  (3, 0.076992802),\n",
       "  (4, 0.26055452),\n",
       "  (6, 0.21767187),\n",
       "  (7, 0.12973565)],\n",
       " [(0, 0.082787395),\n",
       "  (1, 0.092105716),\n",
       "  (2, 0.11891738),\n",
       "  (3, 0.1629521),\n",
       "  (4, 0.1832013),\n",
       "  (5, 0.10652777),\n",
       "  (6, 0.23475373),\n",
       "  (7, 0.018754626)],\n",
       " [(0, 0.049307525),\n",
       "  (1, 0.17624967),\n",
       "  (2, 0.076910928),\n",
       "  (3, 0.092723019),\n",
       "  (4, 0.071982548),\n",
       "  (5, 0.047062531),\n",
       "  (6, 0.43122256),\n",
       "  (7, 0.054541245)],\n",
       " [(0, 0.018022293),\n",
       "  (1, 0.40457198),\n",
       "  (2, 0.015047695),\n",
       "  (4, 0.32780668),\n",
       "  (5, 0.033465341),\n",
       "  (6, 0.20030777)],\n",
       " [(1, 0.10712847),\n",
       "  (2, 0.066339478),\n",
       "  (4, 0.056541614),\n",
       "  (5, 0.076152362),\n",
       "  (6, 0.40553945),\n",
       "  (7, 0.287251)],\n",
       " [(1, 0.20553571),\n",
       "  (2, 0.11511307),\n",
       "  (4, 0.088081919),\n",
       "  (5, 0.038568411),\n",
       "  (6, 0.3875809),\n",
       "  (7, 0.16391809)],\n",
       " [(0, 0.17063749),\n",
       "  (1, 0.14020538),\n",
       "  (2, 0.26676586),\n",
       "  (3, 0.14996967),\n",
       "  (4, 0.025612721),\n",
       "  (6, 0.1373636),\n",
       "  (7, 0.10917465)],\n",
       " [(0, 0.036177535),\n",
       "  (1, 0.028044799),\n",
       "  (2, 0.19575007),\n",
       "  (3, 0.011124458),\n",
       "  (4, 0.4021287),\n",
       "  (6, 0.31998292)],\n",
       " [(0, 0.046114102),\n",
       "  (1, 0.20728037),\n",
       "  (2, 0.091758683),\n",
       "  (3, 0.067955382),\n",
       "  (4, 0.12756604),\n",
       "  (5, 0.12861858),\n",
       "  (6, 0.20757926),\n",
       "  (7, 0.12312761)],\n",
       " [(0, 0.10834689),\n",
       "  (1, 0.16733183),\n",
       "  (2, 0.047069181),\n",
       "  (3, 0.05026602),\n",
       "  (4, 0.28522089),\n",
       "  (5, 0.12003655),\n",
       "  (6, 0.15836547),\n",
       "  (7, 0.06336318)],\n",
       " [(0, 0.036159687),\n",
       "  (1, 0.25760177),\n",
       "  (2, 0.094118528),\n",
       "  (3, 0.096498869),\n",
       "  (4, 0.29342663),\n",
       "  (5, 0.025791951),\n",
       "  (6, 0.085628651),\n",
       "  (7, 0.11077394)],\n",
       " [(0, 0.032978635),\n",
       "  (1, 0.45302367),\n",
       "  (2, 0.078538567),\n",
       "  (3, 0.027883017),\n",
       "  (4, 0.19934289),\n",
       "  (5, 0.039222505),\n",
       "  (6, 0.11631339),\n",
       "  (7, 0.052697323)],\n",
       " [(0, 0.036905479),\n",
       "  (1, 0.16256392),\n",
       "  (2, 0.061001115),\n",
       "  (3, 0.017686591),\n",
       "  (4, 0.21763143),\n",
       "  (5, 0.24822794),\n",
       "  (6, 0.13880447),\n",
       "  (7, 0.11717903)],\n",
       " [(0, 0.049902774),\n",
       "  (1, 0.13660035),\n",
       "  (2, 0.053133555),\n",
       "  (3, 0.54414356),\n",
       "  (4, 0.052841172),\n",
       "  (5, 0.020581776),\n",
       "  (6, 0.075933129),\n",
       "  (7, 0.066863686)],\n",
       " [(0, 0.15527661),\n",
       "  (1, 0.32555723),\n",
       "  (2, 0.02311583),\n",
       "  (4, 0.27752528),\n",
       "  (5, 0.1463539),\n",
       "  (6, 0.045743238),\n",
       "  (7, 0.026077151)],\n",
       " [(1, 0.35281318),\n",
       "  (2, 0.083381012),\n",
       "  (3, 0.19349879),\n",
       "  (4, 0.2054552),\n",
       "  (5, 0.064992577),\n",
       "  (6, 0.025112879),\n",
       "  (7, 0.074364282)]]"
      ]
     },
     "execution_count": 75,
     "metadata": {},
     "output_type": "execute_result"
    }
   ],
   "source": [
    "# display district topic list\n",
    "district_topic_list"
   ]
  },
  {
   "cell_type": "markdown",
   "metadata": {},
   "source": [
    "## Extract for Each Topic the Scores of the Districts"
   ]
  },
  {
   "cell_type": "code",
   "execution_count": 76,
   "metadata": {
    "collapsed": true
   },
   "outputs": [],
   "source": [
    "topic0 = []\n",
    "topic1 = []\n",
    "topic2 = []\n",
    "topic3 = []\n",
    "topic4 = []\n",
    "topic5 = []\n",
    "topic6 = []\n",
    "topic7 = []\n",
    "\n",
    "for district in range(len(district_topic_list)):\n",
    "    district_dict = dict(district_topic_list[district])\n",
    "    \n",
    "    if 0 in district_dict.keys():\n",
    "        topic0.append(district_dict[0])\n",
    "    else:\n",
    "        topic0.append(0)\n",
    "    \n",
    "    if 1 in district_dict.keys():\n",
    "        topic1.append(district_dict[1])\n",
    "    else:\n",
    "        topic1.append(0)\n",
    "    \n",
    "    if 2 in district_dict.keys():\n",
    "        topic2.append(district_dict[2])\n",
    "    else:\n",
    "        topic2.append(0)\n",
    "        \n",
    "    if 3 in district_dict.keys():\n",
    "        topic3.append(district_dict[3])\n",
    "    else:\n",
    "        topic3.append(0)\n",
    "        \n",
    "    if 4 in district_dict.keys():\n",
    "        topic4.append(district_dict[4])\n",
    "    else:\n",
    "        topic4.append(0)\n",
    "        \n",
    "    if 5 in district_dict.keys():\n",
    "        topic5.append(district_dict[5])\n",
    "    else:\n",
    "        topic5.append(0)\n",
    "    \n",
    "    if 6 in district_dict.keys():\n",
    "        topic6.append(district_dict[6])\n",
    "    else:\n",
    "        topic6.append(0)\n",
    "        \n",
    "    if 7 in district_dict.keys():\n",
    "        topic7.append(district_dict[7])\n",
    "    else:\n",
    "        topic7.append(0)"
   ]
  },
  {
   "cell_type": "code",
   "execution_count": 77,
   "metadata": {},
   "outputs": [
    {
     "data": {
      "text/plain": [
       "[0.076546676,\n",
       " 0.036172304,\n",
       " 0.053951729,\n",
       " 0.059777047,\n",
       " 0.015616706,\n",
       " 0.027071962,\n",
       " 0.088502645,\n",
       " 0.076501504,\n",
       " 0.13745691,\n",
       " 0.18532138,\n",
       " 0.041544177,\n",
       " 0.088191263,\n",
       " 0.14565958,\n",
       " 0.062451757,\n",
       " 0.090103723,\n",
       " 0.034305144,\n",
       " 0.14549321,\n",
       " 0.042562924,\n",
       " 0.092890769,\n",
       " 0.019738793,\n",
       " 0.049469795,\n",
       " 0.098415487,\n",
       " 0.056988705,\n",
       " 0.040896654,\n",
       " 0.065860711,\n",
       " 0.063268013,\n",
       " 0.082245111,\n",
       " 0.036084134,\n",
       " 0.13037957,\n",
       " 0.074609607,\n",
       " 0.087715767,\n",
       " 0.018619172,\n",
       " 0.024117475,\n",
       " 0,\n",
       " 0.29768673,\n",
       " 0.099817015,\n",
       " 0.080153413,\n",
       " 0.12377448,\n",
       " 0.048663471,\n",
       " 0.12839335,\n",
       " 0.039739758,\n",
       " 0.05092461,\n",
       " 0.060334433,\n",
       " 0.19064277,\n",
       " 0,\n",
       " 0.0222305,\n",
       " 0.037310403,\n",
       " 0,\n",
       " 0,\n",
       " 0.032726076,\n",
       " 0.16029379,\n",
       " 0.093033463,\n",
       " 0.12807548,\n",
       " 0.024117477,\n",
       " 0.081719458,\n",
       " 0.082787395,\n",
       " 0.049307525,\n",
       " 0.018022293,\n",
       " 0,\n",
       " 0,\n",
       " 0.17063749,\n",
       " 0.036177535,\n",
       " 0.046114102,\n",
       " 0.10834689,\n",
       " 0.036159687,\n",
       " 0.032978635,\n",
       " 0.036905479,\n",
       " 0.049902774,\n",
       " 0.15527661,\n",
       " 0]"
      ]
     },
     "execution_count": 77,
     "metadata": {},
     "output_type": "execute_result"
    }
   ],
   "source": [
    "# check topic 0 to see whether the output looks as desired\n",
    "topic0"
   ]
  },
  {
   "cell_type": "code",
   "execution_count": 109,
   "metadata": {
    "collapsed": true
   },
   "outputs": [],
   "source": [
    "# define function to plot a graph to compare districts for a given topic\n",
    "def district_bar_graph(districts, indices):\n",
    "    \"\"\"\n",
    "    Function to plot district bar graph.\n",
    "    \n",
    "    districts: list with topic scores for each district\n",
    "    indices: list of district number\n",
    "    \"\"\"\n",
    "    assert len(districts) == len(indices)\n",
    "    n = len(districts)\n",
    "    x = np.arange(n)\n",
    "    plt.figure(figsize=(20,7))\n",
    "    plt.bar(x, districts, width=0.5, tick_label=indices, align='center')\n",
    "    plt.xlabel('District')\n",
    "    plt.ylabel('Topic Score')"
   ]
  },
  {
   "cell_type": "markdown",
   "metadata": {},
   "source": [
    "## Topic 0: Fitness & Sports"
   ]
  },
  {
   "cell_type": "code",
   "execution_count": 110,
   "metadata": {},
   "outputs": [
    {
     "data": {
      "image/png": "[encoded data removed]",
      "text/plain": [
       "<matplotlib.figure.Figure at 0x198dc87a710>"
      ]
     },
     "metadata": {},
     "output_type": "display_data"
    }
   ],
   "source": [
    "# plot topic scores\n",
    "district_bar_graph(topic0,\n",
    "                   list(range(len(topic0))))\n",
    "plt.show()"
   ]
  },
  {
   "cell_type": "markdown",
   "metadata": {},
   "source": [
    "## Topic 1: Summer, Sun, Beach"
   ]
  },
  {
   "cell_type": "code",
   "execution_count": 111,
   "metadata": {},
   "outputs": [
    {
     "data": {
      "image/png": "[encoded data removed]",
      "text/plain": [
       "<matplotlib.figure.Figure at 0x198dceb8b70>"
      ]
     },
     "metadata": {},
     "output_type": "display_data"
    }
   ],
   "source": [
    "# plot topic scores\n",
    "district_bar_graph(topic1,\n",
    "                   list(range(len(topic1))))\n",
    "plt.show()"
   ]
  },
  {
   "cell_type": "markdown",
   "metadata": {},
   "source": [
    "## Topic 2: Travel"
   ]
  },
  {
   "cell_type": "code",
   "execution_count": 112,
   "metadata": {},
   "outputs": [
    {
     "data": {
      "image/png": "[encoded data removed]",
      "text/plain": [
       "<matplotlib.figure.Figure at 0x198dcbd3400>"
      ]
     },
     "metadata": {},
     "output_type": "display_data"
    }
   ],
   "source": [
    "# plot topic scores\n",
    "district_bar_graph(topic2,\n",
    "                   list(range(len(topic2))))\n",
    "plt.show()"
   ]
  },
  {
   "cell_type": "markdown",
   "metadata": {},
   "source": [
    "## Topic 3: Streetart & Urban Life"
   ]
  },
  {
   "cell_type": "code",
   "execution_count": 113,
   "metadata": {},
   "outputs": [
    {
     "data": {
      "image/png": "[encoded data removed]",
      "text/plain": [
       "<matplotlib.figure.Figure at 0x198dcce45c0>"
      ]
     },
     "metadata": {},
     "output_type": "display_data"
    }
   ],
   "source": [
    "# plot topic scores\n",
    "district_bar_graph(topic3,\n",
    "                   list(range(len(topic3))))\n",
    "plt.show()"
   ]
  },
  {
   "cell_type": "markdown",
   "metadata": {},
   "source": [
    "## Topic 4: Art"
   ]
  },
  {
   "cell_type": "code",
   "execution_count": 114,
   "metadata": {},
   "outputs": [
    {
     "data": {
      "image/png": "[encoded data removed]",
      "text/plain": [
       "<matplotlib.figure.Figure at 0x198dc9c46a0>"
      ]
     },
     "metadata": {},
     "output_type": "display_data"
    }
   ],
   "source": [
    "# plot topic scores\n",
    "district_bar_graph(topic4,\n",
    "                   list(range(len(topic4))))\n",
    "plt.show()"
   ]
  },
  {
   "cell_type": "markdown",
   "metadata": {},
   "source": [
    "## Topic 5: Lifestyle & Other"
   ]
  },
  {
   "cell_type": "code",
   "execution_count": 115,
   "metadata": {},
   "outputs": [
    {
     "data": {
      "image/png": "[encoded data removed]",
      "text/plain": [
       "<matplotlib.figure.Figure at 0x198dca0b898>"
      ]
     },
     "metadata": {},
     "output_type": "display_data"
    }
   ],
   "source": [
    "# plot topic scores\n",
    "district_bar_graph(topic5,\n",
    "                   list(range(len(topic5))))\n",
    "plt.show()"
   ]
  },
  {
   "cell_type": "markdown",
   "metadata": {},
   "source": [
    "## Topic 6: Sightseeing"
   ]
  },
  {
   "cell_type": "code",
   "execution_count": 116,
   "metadata": {},
   "outputs": [
    {
     "data": {
      "image/png": "[encoded data removed]",
      "text/plain": [
       "<matplotlib.figure.Figure at 0x198dd55b518>"
      ]
     },
     "metadata": {},
     "output_type": "display_data"
    }
   ],
   "source": [
    "# plot topic scores\n",
    "district_bar_graph(topic6,\n",
    "                   list(range(len(topic6))))\n",
    "plt.show()"
   ]
  },
  {
   "cell_type": "markdown",
   "metadata": {},
   "source": [
    "## Topic 7: Gastronomy"
   ]
  },
  {
   "cell_type": "code",
   "execution_count": 117,
   "metadata": {},
   "outputs": [
    {
     "data": {
      "image/png": "[encoded data removed]",
      "text/plain": [
       "<matplotlib.figure.Figure at 0x198dd559208>"
      ]
     },
     "metadata": {},
     "output_type": "display_data"
    }
   ],
   "source": [
    "# plot topic scores\n",
    "district_bar_graph(topic7,\n",
    "                   list(range(len(topic7))))\n",
    "plt.show()"
   ]
  },
  {
   "cell_type": "code",
   "execution_count": 118,
   "metadata": {
    "collapsed": true
   },
   "outputs": [],
   "source": [
    "# define function to apply the model to unseen documents (similar procedure to above where it was applied to the district docs)\n",
    "def run_lda_on_test_doc(docs):\n",
    "    bow_list = [dictionary.doc2bow(text) for text in docs]\n",
    "    topic_list = []\n",
    "    \n",
    "    for index in range(len(bow_list)):\n",
    "        bow = bow_list[index]\n",
    "        topic_vector = lda_model[bow]\n",
    "        topic_list.append(topic_vector)\n",
    "        \n",
    "    return topic_list"
   ]
  },
  {
   "cell_type": "code",
   "execution_count": 119,
   "metadata": {},
   "outputs": [],
   "source": [
    "topics_month = run_lda_on_test_doc(month_pooling_docs)\n",
    "topics_district_per_month = run_lda_on_test_doc(district_per_month_pooling_docs)"
   ]
  }
 ],
 "metadata": {
  "kernelspec": {
   "display_name": "Python 3",
   "language": "python",
   "name": "python3"
  },
  "language_info": {
   "codemirror_mode": {
    "name": "ipython",
    "version": 3
   },
   "file_extension": ".py",
   "mimetype": "text/x-python",
   "name": "python",
   "nbconvert_exporter": "python",
   "pygments_lexer": "ipython3",
   "version": "3.6.1"
  }
 },
 "nbformat": 4,
 "nbformat_minor": 2
}
