{
 "cells": [
  {
   "cell_type": "markdown",
   "metadata": {},
   "source": [
    "## References"
   ]
  },
  {
   "cell_type": "code",
   "execution_count": 1,
   "metadata": {
    "collapsed": true
   },
   "outputs": [],
   "source": [
    "# https://markroxor.github.io/gensim/static/notebooks/gensim_news_classification.html\n",
    "# https://medium.com/square-corner-blog/topic-modeling-optimizing-for-human-interpretability-48a81f6ce0ed"
   ]
  },
  {
   "cell_type": "markdown",
   "metadata": {},
   "source": [
    "## Prepare Notebook"
   ]
  },
  {
   "cell_type": "code",
   "execution_count": 2,
   "metadata": {},
   "outputs": [
    {
     "name": "stderr",
     "output_type": "stream",
     "text": [
      "C:\\Users\\Sebastian Birk\\Anaconda3\\lib\\site-packages\\gensim\\utils.py:1209: UserWarning: detected Windows; aliasing chunkize to chunkize_serial\n",
      "  warnings.warn(\"detected Windows; aliasing chunkize to chunkize_serial\")\n"
     ]
    }
   ],
   "source": [
    "# import packages\n",
    "import logging\n",
    "import os\n",
    "import pickle\n",
    "import numpy as np\n",
    "import matplotlib.pyplot as plt\n",
    "from gensim import corpora, models\n",
    "from gensim.models import HdpModel, LsiModel, CoherenceModel"
   ]
  },
  {
   "cell_type": "code",
   "execution_count": 3,
   "metadata": {
    "collapsed": true
   },
   "outputs": [],
   "source": [
    "# log events\n",
    "logging.basicConfig(format='%(asctime)s : %(levelname)s : %(message)s', level=logging.INFO)"
   ]
  },
  {
   "cell_type": "markdown",
   "metadata": {},
   "source": [
    "## Load Training Corpora and Dictionaries"
   ]
  },
  {
   "cell_type": "code",
   "execution_count": 4,
   "metadata": {},
   "outputs": [
    {
     "name": "stderr",
     "output_type": "stream",
     "text": [
      "2018-10-05 05:42:33,319 : INFO : loading Dictionary object from tourism_no_pooling.dict\n",
      "2018-10-05 05:42:33,328 : INFO : loaded tourism_no_pooling.dict\n",
      "2018-10-05 05:42:33,333 : INFO : loaded corpus index from tourism_no_pooling.mm.index\n",
      "2018-10-05 05:42:33,335 : INFO : initializing cython corpus reader from tourism_no_pooling.mm\n",
      "2018-10-05 05:42:33,339 : INFO : accepted corpus with 7633 documents, 4790 features, 37016 non-zero entries\n",
      "2018-10-05 05:42:33,342 : INFO : loading Dictionary object from tourism_user_pooling.dict\n",
      "2018-10-05 05:42:33,348 : INFO : loaded tourism_user_pooling.dict\n",
      "2018-10-05 05:42:33,352 : INFO : loaded corpus index from tourism_user_pooling.mm.index\n",
      "2018-10-05 05:42:33,353 : INFO : initializing cython corpus reader from tourism_user_pooling.mm\n",
      "2018-10-05 05:42:33,357 : INFO : accepted corpus with 4424 documents, 3990 features, 30119 non-zero entries\n",
      "2018-10-05 05:42:33,360 : INFO : loading Dictionary object from tourism_hashtag_pooling.dict\n",
      "2018-10-05 05:42:33,370 : INFO : loaded tourism_hashtag_pooling.dict\n",
      "2018-10-05 05:42:33,377 : INFO : loaded corpus index from tourism_hashtag_pooling.mm.index\n",
      "2018-10-05 05:42:33,382 : INFO : initializing cython corpus reader from tourism_hashtag_pooling.mm\n",
      "2018-10-05 05:42:33,387 : INFO : accepted corpus with 6040 documents, 9330 features, 78970 non-zero entries\n"
     ]
    },
    {
     "name": "stdout",
     "output_type": "stream",
     "text": [
      "Vectorized no pooling corpus loaded!\n",
      "Vectorized user pooling corpus loaded!\n",
      "Vectorized hashtag pooling corpus loaded!\n"
     ]
    }
   ],
   "source": [
    "# load no pooling corpus\n",
    "if (os.path.exists(\"tourism_no_pooling.dict\")):\n",
    "   dictionary_no_pooling = corpora.Dictionary.load('tourism_no_pooling.dict')\n",
    "   corpus_no_pooling = corpora.MmCorpus('tourism_no_pooling.mm')\n",
    "   print(\"Vectorized no pooling corpus loaded!\")\n",
    "else:\n",
    "   print(\"Please run preprocessing script first!\")\n",
    "\n",
    "# load user pooling corpus\n",
    "if (os.path.exists(\"tourism_user_pooling.dict\")):\n",
    "   dictionary_user_pooling = corpora.Dictionary.load('tourism_user_pooling.dict')\n",
    "   corpus_user_pooling = corpora.MmCorpus('tourism_user_pooling.mm')\n",
    "   print(\"Vectorized user pooling corpus loaded!\")\n",
    "else:\n",
    "   print(\"Please run preprocessing script first!\")\n",
    "\n",
    "# load hashtag pooling corpus\n",
    "if (os.path.exists(\"tourism_hashtag_pooling.dict\")):\n",
    "   dictionary_hashtag_pooling = corpora.Dictionary.load('tourism_hashtag_pooling.dict')\n",
    "   corpus_hashtag_pooling = corpora.MmCorpus('tourism_hashtag_pooling.mm')\n",
    "   print(\"Vectorized hashtag pooling corpus loaded!\")\n",
    "else:\n",
    "   print(\"Please run preprocessing script first!\")"
   ]
  },
  {
   "cell_type": "markdown",
   "metadata": {},
   "source": [
    "## Load Documents"
   ]
  },
  {
   "cell_type": "code",
   "execution_count": 5,
   "metadata": {
    "collapsed": true
   },
   "outputs": [],
   "source": [
    "# load no pooling documents\n",
    "with open ('tokenized_documents_no_pooling.p', 'rb') as fp:\n",
    "    tokenized_documents_no_pooling = pickle.load(fp)\n",
    "\n",
    "# load user pooling documents\n",
    "with open('tokenized_documents_user_pooling.p', 'rb') as fp:\n",
    "    tokenized_documents_user_pooling = pickle.load(fp)\n",
    "\n",
    "# load hashtag pooling documents\n",
    "with open('tokenized_documents_hashtag_pooling.p', 'rb') as fp:\n",
    "    tokenized_documents_hashtag_pooling = pickle.load(fp)"
   ]
  },
  {
   "cell_type": "markdown",
   "metadata": {},
   "source": [
    "## Load LDA Models (Trained in TopicModeling#2 Script)"
   ]
  },
  {
   "cell_type": "code",
   "execution_count": 6,
   "metadata": {},
   "outputs": [
    {
     "name": "stderr",
     "output_type": "stream",
     "text": [
      "2018-10-05 05:42:37,124 : INFO : loading LdaModel object from lda_model_no_pooling.model\n",
      "2018-10-05 05:42:37,130 : INFO : loading expElogbeta from lda_model_no_pooling.model.expElogbeta.npy with mmap=None\n",
      "2018-10-05 05:42:37,135 : INFO : setting ignored attribute dispatcher to None\n",
      "2018-10-05 05:42:37,137 : INFO : setting ignored attribute id2word to None\n",
      "2018-10-05 05:42:37,139 : INFO : setting ignored attribute state to None\n",
      "2018-10-05 05:42:37,141 : INFO : loaded lda_model_no_pooling.model\n",
      "2018-10-05 05:42:37,144 : INFO : loading LdaState object from lda_model_no_pooling.model.state\n",
      "2018-10-05 05:42:37,150 : INFO : loaded lda_model_no_pooling.model.state\n",
      "2018-10-05 05:42:37,158 : INFO : loading LdaModel object from lda_model_user_pooling.model\n",
      "2018-10-05 05:42:37,161 : INFO : loading expElogbeta from lda_model_user_pooling.model.expElogbeta.npy with mmap=None\n",
      "2018-10-05 05:42:37,165 : INFO : setting ignored attribute dispatcher to None\n",
      "2018-10-05 05:42:37,166 : INFO : setting ignored attribute id2word to None\n",
      "2018-10-05 05:42:37,168 : INFO : setting ignored attribute state to None\n",
      "2018-10-05 05:42:37,170 : INFO : loaded lda_model_user_pooling.model\n",
      "2018-10-05 05:42:37,172 : INFO : loading LdaState object from lda_model_user_pooling.model.state\n",
      "2018-10-05 05:42:37,178 : INFO : loaded lda_model_user_pooling.model.state\n",
      "2018-10-05 05:42:37,185 : INFO : loading LdaModel object from lda_model_hashtag_pooling.model\n",
      "2018-10-05 05:42:37,190 : INFO : loading expElogbeta from lda_model_hashtag_pooling.model.expElogbeta.npy with mmap=None\n",
      "2018-10-05 05:42:37,196 : INFO : setting ignored attribute dispatcher to None\n",
      "2018-10-05 05:42:37,198 : INFO : setting ignored attribute id2word to None\n",
      "2018-10-05 05:42:37,201 : INFO : setting ignored attribute state to None\n",
      "2018-10-05 05:42:37,204 : INFO : loaded lda_model_hashtag_pooling.model\n",
      "2018-10-05 05:42:37,208 : INFO : loading LdaState object from lda_model_hashtag_pooling.model.state\n",
      "2018-10-05 05:42:37,218 : INFO : loaded lda_model_hashtag_pooling.model.state\n"
     ]
    }
   ],
   "source": [
    "# load models\n",
    "lda_model_no_pooling = models.LdaModel.load('lda_model_no_pooling.model') # 6 topics\n",
    "lda_model_user_pooling = models.LdaModel.load('lda_model_user_pooling.model') # 7 topics\n",
    "lda_model_hashtag_pooling = models.LdaModel.load('lda_model_hashtag_pooling.model') # 7 topics"
   ]
  },
  {
   "cell_type": "code",
   "execution_count": 7,
   "metadata": {
    "collapsed": true
   },
   "outputs": [],
   "source": [
    "# extract topics with word probabilities\n",
    "lda_topics_no_pooling = lda_model_no_pooling.show_topics(formatted=False)\n",
    "lda_topics_user_pooling = lda_model_user_pooling.show_topics(formatted=False)\n",
    "lda_topics_hashtag_pooling = lda_model_hashtag_pooling.show_topics(formatted=False)"
   ]
  },
  {
   "cell_type": "markdown",
   "metadata": {},
   "source": [
    "## Train HDP Models"
   ]
  },
  {
   "cell_type": "code",
   "execution_count": 8,
   "metadata": {},
   "outputs": [
    {
     "name": "stderr",
     "output_type": "stream",
     "text": [
      "2018-10-05 05:43:04,192 : INFO : (0, '0.002*#nervo + 0.002*#w + 0.001*turn + 0.001*familiabarcelona + 0.001*expected + 0.001*ignore + 0.001*travel + 0.001*oh + 0.001*#amigas + 0.001*transformation')\n",
      "2018-10-05 05:43:04,198 : INFO : (1, '0.002*#dogsofinstagram + 0.002*#blackandwhitephotography + 0.001*#cbf + 0.001*#instabcn + 0.001*#stage + 0.001*#castanyada + 0.001*cuberta + 0.001*audio + 0.001*detail + 0.001*#lapedrera#lapedrera#gaudibarcelona#modernisme')\n",
      "2018-10-05 05:43:04,205 : INFO : (2, '0.002*lifetime + 0.002*aged + 0.002*#esquancorroquehiveigclar + 0.002*mass + 0.002*someone + 0.001*self + 0.001*#contigomismo + 0.001*stuff + 0.001*bisbe + 0.001*humble')\n",
      "2018-10-05 05:43:04,213 : INFO : (3, '0.002*#sculpture + 0.002*#landscape + 0.002*#señorthiemedoesspain + 0.002*wonder + 0.002*endangered + 0.001*miguel + 0.001*style + 0.001*unicorn + 0.001*#pride + 0.001*seat')\n",
      "2018-10-05 05:43:04,220 : INFO : (4, '0.002*#loveisintheair + 0.002*#urbanphoto + 0.002*emotion + 0.001*right + 0.001*#wedding + 0.001*#artederua + 0.001*hand + 0.001*#lovingbcn + 0.001*feliz + 0.001*#b')\n",
      "2018-10-05 05:43:04,235 : INFO : (5, '0.002*familia + 0.002*sagrada + 0.002*#instafun + 0.002*britishairways + 0.002*#dirtysouth + 0.001*capture + 0.001*#shopping + 0.001*okay + 0.001*#pintada + 0.001*#fit')\n",
      "2018-10-05 05:43:04,250 : INFO : (6, '0.002*família + 0.002*chicas + 0.002*wood + 0.001*veggie + 0.001*vegan + 0.001*#lasramblas + 0.001*dolliehenry + 0.001*vintage + 0.001*#prodigy + 0.001*#hawker')\n",
      "2018-10-05 05:43:04,267 : INFO : (7, '0.002*putxet + 0.002*study + 0.002*ugarit + 0.001*#mozzarella + 0.001*#agameofportraits + 0.001*translation + 0.001*#nintendoswitch + 0.001*#movilgrafiadeldia + 0.001*november + 0.001*par')\n",
      "2018-10-05 05:43:04,282 : INFO : (8, '0.002*#gatosconcorrea + 0.002*menos + 0.002*súper + 0.001*#happyfathersday + 0.001*#picture + 0.001*krydermusic + 0.001*side + 0.001*#davidbowieisbcn + 0.001*#humanscreative + 0.001*remembered')\n",
      "2018-10-05 05:43:04,296 : INFO : (9, '0.002*#silence + 0.002*#fit + 0.002*templo + 0.001*tabitha + 0.001*ross + 0.001*applied + 0.001*belong + 0.001*celebrating + 0.001*repost + 0.001*shared')\n",
      "2018-10-05 05:43:04,315 : INFO : (10, '0.002*martí + 0.002*#weather + 0.002*tired + 0.001*heathrowairport + 0.001*#tb + 0.001*#plazaespaña + 0.001*arrival + 0.001*rich + 0.001*bon + 0.001*independent')\n",
      "2018-10-05 05:43:04,327 : INFO : (11, '0.003*quarry + 0.002*galicia + 0.002*#thankful + 0.002*liked + 0.002*#animals + 0.001*#followme + 0.001*step + 0.001*deejayno + 0.001*montjuic + 0.001*magic')\n",
      "2018-10-05 05:43:04,338 : INFO : (12, '0.002*window + 0.002*#espagne + 0.001*motor + 0.001*#pintada + 0.001*stoked + 0.001*upside + 0.001*velvet + 0.001*parc + 0.001*#tourist + 0.001*imprfcto')\n",
      "2018-10-05 05:43:04,353 : INFO : (13, '0.002*dress + 0.002*#drummers + 0.002*#birthdaytrip + 0.002*cinderella + 0.002*amen + 0.002*indeed + 0.002*smile + 0.002*leah + 0.001*update + 0.001*¡qué')\n",
      "2018-10-05 05:43:04,362 : INFO : (14, '0.002*fight + 0.002*recent + 0.002*#strong + 0.002*moon + 0.002*pre + 0.001*wrap + 0.001*pas + 0.001*keep + 0.001*part + 0.001*ver')\n",
      "2018-10-05 05:43:04,373 : INFO : (15, '0.002*sold + 0.002*fly + 0.002*familia + 0.002*insane + 0.002*#singer + 0.001*sagrada + 0.001*hello + 0.001*alone + 0.001*#starwarsedition + 0.001*#homesweethome')\n",
      "2018-10-05 05:43:04,385 : INFO : (16, '0.002*fitbar + 0.002*#gameofthrones + 0.001*al + 0.001*surtidors + 0.001*bitter + 0.001*chico + 0.001*#juanmiro + 0.001*among + 0.001*#parkguell + 0.001*iceland')\n",
      "2018-10-05 05:43:04,395 : INFO : (17, '0.002*zoótropo + 0.002*covering + 0.001*#comission + 0.001*#tourlife + 0.001*#followus + 0.001*method + 0.001*jeruthedamaja + 0.001*reminder + 0.001*rock + 0.001*esta')\n",
      "2018-10-05 05:43:04,406 : INFO : (18, '0.002*justice + 0.002*garagebeerco + 0.001*mònica + 0.001*cocovailbh + 0.001*surf + 0.001*genius + 0.001*aile + 0.001*#iulian + 0.001*sagrada + 0.001*often')\n",
      "2018-10-05 05:43:04,423 : INFO : (19, '0.002*tell + 0.002*mate + 0.001*looked + 0.001*competition + 0.001*marioolmoss + 0.001*alley + 0.001*#explore + 0.001*#shoppingcenter + 0.001*#thesteepwaterband + 0.001*remembering')\n",
      "2018-10-05 05:43:08,866 : WARNING : likelihood is decreasing!\n",
      "2018-10-05 05:43:08,870 : WARNING : likelihood is decreasing!\n",
      "2018-10-05 05:43:08,874 : WARNING : likelihood is decreasing!\n",
      "2018-10-05 05:43:08,878 : WARNING : likelihood is decreasing!\n",
      "2018-10-05 05:43:08,882 : WARNING : likelihood is decreasing!\n",
      "2018-10-05 05:43:08,886 : WARNING : likelihood is decreasing!\n",
      "2018-10-05 05:43:08,889 : WARNING : likelihood is decreasing!\n",
      "2018-10-05 05:43:08,893 : WARNING : likelihood is decreasing!\n",
      "2018-10-05 05:43:08,897 : WARNING : likelihood is decreasing!\n",
      "2018-10-05 05:43:08,900 : WARNING : likelihood is decreasing!\n",
      "2018-10-05 05:43:08,904 : WARNING : likelihood is decreasing!\n",
      "2018-10-05 05:43:09,906 : WARNING : likelihood is decreasing!\n",
      "2018-10-05 05:43:09,910 : WARNING : likelihood is decreasing!\n",
      "2018-10-05 05:43:09,913 : WARNING : likelihood is decreasing!\n",
      "2018-10-05 05:43:09,917 : WARNING : likelihood is decreasing!\n",
      "2018-10-05 05:43:09,920 : WARNING : likelihood is decreasing!\n",
      "2018-10-05 05:43:11,451 : WARNING : likelihood is decreasing!\n",
      "2018-10-05 05:43:11,454 : WARNING : likelihood is decreasing!\n",
      "2018-10-05 05:43:11,458 : WARNING : likelihood is decreasing!\n",
      "2018-10-05 05:43:11,719 : WARNING : likelihood is decreasing!\n",
      "2018-10-05 05:43:11,722 : WARNING : likelihood is decreasing!\n",
      "2018-10-05 05:43:11,932 : WARNING : likelihood is decreasing!\n",
      "2018-10-05 05:43:11,936 : WARNING : likelihood is decreasing!\n",
      "2018-10-05 05:43:11,939 : WARNING : likelihood is decreasing!\n",
      "2018-10-05 05:43:11,944 : WARNING : likelihood is decreasing!\n",
      "2018-10-05 05:43:11,947 : WARNING : likelihood is decreasing!\n",
      "2018-10-05 05:43:19,778 : INFO : (0, '0.003*omnipollo + 0.002*new + 0.002*#gato + 0.002*sharing + 0.002*#beauty + 0.002*poco + 0.002*cuando + 0.002*pedreracasa + 0.002*#catwalk + 0.002*mexican')\n",
      "2018-10-05 05:43:19,783 : INFO : (1, '0.007*sagrada + 0.005*familia + 0.002*basílica + 0.002*família + 0.002*masterpiece + 0.002*kygomusic + 0.002*#sagradafamilia + 0.002*pódium + 0.002*#strangerthings + 0.002*senior')\n",
      "2018-10-05 05:43:19,790 : INFO : (2, '0.003*cdlcbarcelona + 0.002*three + 0.002*#sagradafamilia + 0.002*#beautifulview + 0.002*#basílica + 0.002*lost + 0.002*innovation + 0.002*hema + 0.002*vía + 0.001*fat')\n",
      "2018-10-05 05:43:19,799 : INFO : (3, '0.002*#chocolate + 0.002*#homesweethome + 0.002*exercise + 0.002*cake + 0.002*therefore + 0.002*bday + 0.002*training + 0.002*worth + 0.002*#travels + 0.002*placa')\n",
      "2018-10-05 05:43:19,805 : INFO : (4, '0.003*label + 0.002*hoping + 0.002*special + 0.002*#gartnersym + 0.002*time + 0.002*#filmisnotdead + 0.002*afterwork + 0.001*#offsonar + 0.001*#marbella + 0.001*picture')\n",
      "2018-10-05 05:43:19,811 : INFO : (5, '0.002*architect + 0.002*h + 0.002*catalan + 0.002*edition + 0.002*#saturdaynight + 0.001*#lovers + 0.001*yup + 0.001*imprfcto + 0.001*calle + 0.001*great')\n",
      "2018-10-05 05:43:19,819 : INFO : (6, '0.002*sagrada + 0.002*#vegan + 0.002*designthinkers + 0.002*known + 0.002*platja + 0.002*wait + 0.002*llobera + 0.002*josep + 0.002*#photography + 0.002*#aroundtheworld')\n",
      "2018-10-05 05:43:19,829 : INFO : (7, '0.002*stone + 0.002*favor + 0.002*frog + 0.002*dragon + 0.002*miriam + 0.002*dospalillos + 0.002*cuba + 0.002*blueberry + 0.002*beauty + 0.002*artwork')\n",
      "2018-10-05 05:43:19,839 : INFO : (8, '0.002*senior + 0.002*#summervibes + 0.002*#outfitoftheday + 0.002*cat + 0.002*pizza + 0.002*#ride + 0.002*organic + 0.002*basílica + 0.001*#aboutlastnight + 0.001*#urbanart')\n",
      "2018-10-05 05:43:19,852 : INFO : (9, '0.002*#sunrise + 0.002*repeat + 0.002*#awesome + 0.002*captivating + 0.002*best + 0.002*dedicated + 0.002*#amor + 0.002*hop + 0.001*#flowers + 0.001*sat')\n",
      "2018-10-05 05:43:19,861 : INFO : (10, '0.003*cathedral + 0.002*working + 0.002*shopping + 0.002*inc + 0.002*cathederal + 0.002*blueberry + 0.002*shoot + 0.002*segrada + 0.001*natural + 0.001*disco')\n",
      "2018-10-05 05:43:19,868 : INFO : (11, '0.002*black + 0.002*#picoftheday + 0.002*welcoming + 0.002*exquisite + 0.002*degree + 0.002*fotos + 0.002*glimpse + 0.002*#arminvanbuuren + 0.002*#interior + 0.002*load')\n"
     ]
    },
    {
     "name": "stderr",
     "output_type": "stream",
     "text": [
      "2018-10-05 05:43:19,883 : INFO : (12, '0.002*learned + 0.002*today + 0.002*#girl + 0.002*ph + 0.002*brewing + 0.002*#shooting + 0.002*sport + 0.002*malt + 0.002*lime + 0.002*lightforms')\n",
      "2018-10-05 05:43:19,891 : INFO : (13, '0.002*authentic + 0.002*#g + 0.002*familia + 0.002*cruïlla + 0.002*sagrada + 0.002*bigger + 0.002*#run + 0.002*barri + 0.002*monster + 0.002*#sketchbook')\n",
      "2018-10-05 05:43:19,898 : INFO : (14, \"0.003*bonjour + 0.002*we've + 0.002*chip + 0.002*rooftop + 0.002*pay + 0.002*#friendshipgoals + 0.002*sagrada + 0.002*nit + 0.002*#painting + 0.002*movimiento\")\n",
      "2018-10-05 05:43:19,904 : INFO : (15, '0.003*drop + 0.002*#gato + 0.002*#top + 0.002*sunset + 0.002*#ootd + 0.002*proof + 0.002*shot + 0.002*heading + 0.002*word + 0.002*bio')\n",
      "2018-10-05 05:43:19,914 : INFO : (16, '0.002*effective + 0.002*universal + 0.002*#catalunya + 0.002*punto + 0.002*quack + 0.002*need + 0.002*sunlight + 0.002*lee + 0.002*boca + 0.001*afraid')\n",
      "2018-10-05 05:43:19,927 : INFO : (17, '0.003*departure + 0.002*#newprojects + 0.002*eating + 0.002*#fitfam + 0.002*hello + 0.002*powerful + 0.002*independent + 0.002*youyou + 0.002*#alley + 0.002*afternoon')\n",
      "2018-10-05 05:43:19,934 : INFO : (18, '0.002*master + 0.002*muchas + 0.002*reloaded + 0.002*second + 0.002*towards + 0.002*això + 0.002*yet + 0.002*iii + 0.002*market + 0.002*#shooting')\n",
      "2018-10-05 05:43:19,945 : INFO : (19, '0.003*puigdemont + 0.002*pink + 0.002*checking + 0.002*custobarcelona + 0.002*oasis + 0.002*terra + 0.002*#climbing + 0.002*ugarit + 0.002*common + 0.002*stunning')\n",
      "2018-10-05 05:43:24,039 : WARNING : likelihood is decreasing!\n",
      "2018-10-05 05:43:24,043 : WARNING : likelihood is decreasing!\n",
      "2018-10-05 05:43:24,047 : WARNING : likelihood is decreasing!\n",
      "2018-10-05 05:43:24,051 : WARNING : likelihood is decreasing!\n",
      "2018-10-05 05:43:24,055 : WARNING : likelihood is decreasing!\n",
      "2018-10-05 05:43:24,060 : WARNING : likelihood is decreasing!\n",
      "2018-10-05 05:43:27,070 : WARNING : likelihood is decreasing!\n",
      "2018-10-05 05:43:36,900 : WARNING : likelihood is decreasing!\n",
      "2018-10-05 05:43:36,903 : WARNING : likelihood is decreasing!\n",
      "2018-10-05 05:43:36,908 : WARNING : likelihood is decreasing!\n",
      "2018-10-05 05:43:36,912 : WARNING : likelihood is decreasing!\n",
      "2018-10-05 05:43:36,916 : WARNING : likelihood is decreasing!\n",
      "2018-10-05 05:43:36,919 : WARNING : likelihood is decreasing!\n",
      "2018-10-05 05:43:41,126 : WARNING : likelihood is decreasing!\n",
      "2018-10-05 05:43:41,129 : WARNING : likelihood is decreasing!\n",
      "2018-10-05 05:43:41,133 : WARNING : likelihood is decreasing!\n",
      "2018-10-05 05:43:41,286 : WARNING : likelihood is decreasing!\n",
      "2018-10-05 05:43:42,258 : WARNING : likelihood is decreasing!\n",
      "2018-10-05 05:43:42,261 : WARNING : likelihood is decreasing!\n",
      "2018-10-05 05:43:44,264 : WARNING : likelihood is decreasing!\n",
      "2018-10-05 05:43:44,268 : WARNING : likelihood is decreasing!\n",
      "2018-10-05 05:43:44,272 : WARNING : likelihood is decreasing!\n",
      "2018-10-05 05:43:46,471 : WARNING : likelihood is decreasing!\n",
      "2018-10-05 05:43:46,475 : WARNING : likelihood is decreasing!\n",
      "2018-10-05 05:43:46,479 : WARNING : likelihood is decreasing!\n",
      "2018-10-05 05:43:46,483 : WARNING : likelihood is decreasing!\n",
      "2018-10-05 05:43:47,254 : INFO : (0, '0.020*#sagradafamilia + 0.015*sagrada + 0.011*#travel + 0.011*#gaudi + 0.008*familia + 0.008*#summer + 0.008*#love + 0.006*basílica + 0.006*#architecture + 0.006*#photography')\n",
      "2018-10-05 05:43:47,264 : INFO : (1, '0.011*#art + 0.004*#beautiful + 0.003*#brianeno + 0.003*#contemporaryart + 0.002*artssantamonica + 0.002*#lightforms + 0.002*#soundforms + 0.002*#drawing + 0.002*#love + 0.002*sagrada')\n",
      "2018-10-05 05:43:47,276 : INFO : (2, '0.007*#sagradafamilia + 0.003*sagrada + 0.003*#gaudi + 0.002*basílica + 0.002*familia + 0.002*#travelblogger + 0.002*#travel + 0.001*#friends + 0.001*night + 0.001*#love')\n",
      "2018-10-05 05:43:47,293 : INFO : (3, '0.006*#beach + 0.002*beach + 0.002*#women + 0.002*#curly + 0.002*#hair + 0.002*#playa + 0.002*#hairstyle + 0.001*#sun + 0.001*#bbf + 0.001*#summer')\n",
      "2018-10-05 05:43:47,311 : INFO : (4, '0.008*#amazing + 0.007*#photooftheday + 0.006*#vegan + 0.006*#minimalism + 0.006*#planner + 0.006*#elhartazgodeunpaís + 0.005*#smile + 0.004*#follow + 0.004*follow + 0.001*hoy')\n",
      "2018-10-05 05:43:47,328 : INFO : (5, '0.010*#streetart + 0.008*#graffiti + 0.007*#arteurbano + 0.007*#digerible + 0.005*urbano + 0.005*arte + 0.005*#arteenlacalle + 0.004*#artecallejero + 0.004*tres + 0.004*#artederua')\n",
      "2018-10-05 05:43:47,344 : INFO : (6, \"0.006*#catalonia + 0.003*#repression + 0.003*#escolaramonllull + 0.003*#catalunya + 0.003*#referendum + 0.003*#independencia + 0.002*#travel + 0.001*#aturadadepaís + 0.001*'s + 0.001*xd\")\n",
      "2018-10-05 05:43:47,366 : INFO : (7, '0.005*#drawing + 0.004*#illustration + 0.004*#art + 0.003*#artist + 0.002*#sketch + 0.002*#artwork + 0.002*#pencil + 0.001*#draw + 0.001*#artoftheday + 0.001*#urbansketchersbcn')\n",
      "2018-10-05 05:43:47,382 : INFO : (8, '0.008*#endomondo + 0.008*km + 0.008*#endorphins + 0.005*finished + 0.005*running + 0.002*walking + 0.001*cycling + 0.001*skating + 0.001*#musicplayer + 0.001*hot')\n",
      "2018-10-05 05:43:47,398 : INFO : (9, \"0.001*deriva + 0.001*xalet + 0.001*#nicotheblackcat + 0.001*best + 0.001*#thewhotelbarcelona + 0.001*#vogue + 0.001*sandy + 0.001*#publicspace + 0.001*who'll + 0.001*#picoftheday\")\n",
      "2018-10-05 05:43:47,422 : INFO : (10, '0.004*#sport + 0.004*#women + 0.004*#neversettle + 0.003*#spoonie + 0.003*#training + 0.003*#fit + 0.003*#lifestyle + 0.003*#workout + 0.001*#breathe + 0.001*#friend')\n",
      "2018-10-05 05:43:47,440 : INFO : (11, \"0.002*#housemusic + 0.001*#shop + 0.001*opiumbarcelona + 0.001*#reciclaromorir + 0.001*#tuesdaysatmonkey + 0.001*#horno + 0.001*here's + 0.001*#filter + 0.001*#recyclingart + 0.001*structure\")\n",
      "2018-10-05 05:43:47,454 : INFO : (12, '0.001*experience + 0.001*#feliz + 0.001*gòtic + 0.001*espanya + 0.001*#sun + 0.001*montserratrolleiflex + 0.001*#love + 0.001*#wholelottalove + 0.001*#travel + 0.001*#nativity')\n",
      "2018-10-05 05:43:47,472 : INFO : (13, '0.001*#beach + 0.001*#poland + 0.001*core + 0.001*#music + 0.001*#life + 0.001*#tonihcarné + 0.001*#wondersofyheworld + 0.001*#friends + 0.001*#artmontfalcon + 0.001*stand')\n",
      "2018-10-05 05:43:47,488 : INFO : (14, '0.002*#gato + 0.002*#circuitfestival + 0.002*#gayparty + 0.002*#circuitgay + 0.002*#circuitparty + 0.001*#big + 0.001*#catwalk + 0.001*#beyond + 0.001*extra + 0.001*#bethelona')\n",
      "2018-10-05 05:43:47,506 : INFO : (15, '0.001*#agust + 0.001*everything + 0.001*quarry#igersbarcelona + 0.001*#precious + 0.001*#whotel + 0.001*perfect + 0.001*aniversario + 0.001*#passeio + 0.001*water + 0.001*hungry')\n",
      "2018-10-05 05:43:47,518 : INFO : (16, '0.001*#tbt + 0.001*#sharedhobby + 0.001*#iphone + 0.001*#fitnessphysique + 0.001*#abifahrt + 0.001*fauno + 0.001*barcelonacityfm + 0.001*#documentaryphotographer + 0.001*#spanish + 0.001*omgwillz')\n",
      "2018-10-05 05:43:47,536 : INFO : (17, '0.002*lolea + 0.001*#mindblown + 0.001*festival + 0.001*cruïlla + 0.001*pretty + 0.001*#relax + 0.001*run + 0.001*recinte + 0.001*#relaxtime + 0.001*#mermanspain')\n",
      "2018-10-05 05:43:47,555 : INFO : (18, \"0.001*#coreogrpher + 0.001*#sigoblanco + 0.001*#belgiangirl + 0.001*igreja + 0.001*shadebathing + 0.001*#worldtradecenteralmedapark + 0.001*#instashihtzu + 0.001*#graffitiigers + 0.001*gin + 0.001*today's\")\n",
      "2018-10-05 05:43:47,571 : INFO : (19, '0.001*#casual + 0.001*aqui + 0.001*#delicious + 0.001*#saviour + 0.001*free + 0.001*#handstand + 0.001*agullons + 0.001*bienvenida + 0.001*#architecturephotography + 0.001*#lescatacombes')\n"
     ]
    }
   ],
   "source": [
    "# train HDP models with different pooling methods (similar to LDA in TopicModeling#2 Script)\n",
    "hdp_model_no_pooling = HdpModel(corpus_no_pooling, dictionary_no_pooling)\n",
    "hdp_model_user_pooling = HdpModel(corpus_user_pooling, dictionary_user_pooling)\n",
    "hdp_model_hashtag_pooling = HdpModel(corpus_hashtag_pooling, dictionary_hashtag_pooling)"
   ]
  },
  {
   "cell_type": "code",
   "execution_count": 9,
   "metadata": {
    "collapsed": true
   },
   "outputs": [],
   "source": [
    "# exctract topics with word probabilities\n",
    "hdp_topics_no_pooling = hdp_model_no_pooling.show_topics(formatted=False)\n",
    "hdp_topics_user_pooling = hdp_model_user_pooling.show_topics(formatted=False)\n",
    "hdp_topics_hashtag_pooling = hdp_model_hashtag_pooling.show_topics(formatted=False)"
   ]
  },
  {
   "cell_type": "markdown",
   "metadata": {},
   "source": [
    "## Train LSI Models"
   ]
  },
  {
   "cell_type": "code",
   "execution_count": 10,
   "metadata": {},
   "outputs": [
    {
     "name": "stderr",
     "output_type": "stream",
     "text": [
      "2018-10-05 05:43:48,008 : INFO : using serial LSI version on this node\n",
      "2018-10-05 05:43:48,013 : INFO : updating model with new documents\n",
      "2018-10-05 05:43:48,063 : INFO : preparing a new chunk of documents\n",
      "2018-10-05 05:43:48,095 : INFO : using 100 extra samples and 2 power iterations\n",
      "2018-10-05 05:43:48,097 : INFO : 1st phase: constructing (4790, 106) action matrix\n",
      "2018-10-05 05:43:48,154 : INFO : orthonormalizing (4790, 106) action matrix\n",
      "2018-10-05 05:43:48,311 : INFO : 2nd phase: running dense svd on (106, 7633) matrix\n",
      "2018-10-05 05:43:48,412 : INFO : computing the final decomposition\n",
      "2018-10-05 05:43:48,413 : INFO : keeping 6 factors (discarding 64.750% of energy spectrum)\n",
      "2018-10-05 05:43:48,418 : INFO : processed documents up to #7633\n",
      "2018-10-05 05:43:48,421 : INFO : topic #0(48.355): 0.783*\"sagrada\" + 0.533*\"familia\" + 0.213*\"basílica\" + 0.189*\"família\" + 0.103*\"#sagradafamilia\" + 0.033*\"#gaudi\" + 0.032*\"beautiful\" + 0.027*\"gaudi\" + 0.024*\"inside\" + 0.022*\"basilica\"\n",
      "2018-10-05 05:43:48,424 : INFO : topic #1(28.253): -0.728*\"gothic\" + -0.676*\"quarter\" + -0.034*\"street\" + -0.032*\"#art\" + -0.028*\"#gothicquarter\" + -0.028*\"#streetart\" + -0.025*\"#graffiti\" + -0.025*\"night\" + -0.024*\"love\" + -0.024*\"#travel\"\n",
      "2018-10-05 05:43:48,426 : INFO : topic #2(25.656): -0.611*\"basílica\" + 0.555*\"familia\" + -0.548*\"família\" + -0.068*\"#sagradafamilia\" + -0.063*\"sagrada\" + -0.039*\"beautiful\" + -0.020*\"place\" + -0.020*\"time\" + -0.019*\"#catalonia\" + -0.018*\"#lasagradafamilia\"\n",
      "2018-10-05 05:43:48,429 : INFO : topic #3(20.179): 0.898*\"#sagradafamilia\" + 0.279*\"#gaudi\" + -0.128*\"família\" + 0.124*\"#travel\" + 0.104*\"#architecture\" + -0.097*\"sagrada\" + 0.059*\"#summer\" + 0.059*\"#church\" + 0.057*\"#catalonia\" + 0.055*\"#basilica\"\n",
      "2018-10-05 05:43:48,432 : INFO : topic #4(16.471): -0.430*\"#streetart\" + -0.349*\"drinking\" + -0.303*\"#arteurbano\" + -0.280*\"#digerible\" + -0.268*\"#graffiti\" + -0.238*\"time\" + -0.225*\"arte\" + -0.223*\"urbano\" + -0.179*\"beach\" + -0.162*\"tres\"\n",
      "2018-10-05 05:43:48,440 : INFO : using serial LSI version on this node\n",
      "2018-10-05 05:43:48,444 : INFO : updating model with new documents\n",
      "2018-10-05 05:43:48,492 : INFO : preparing a new chunk of documents\n",
      "2018-10-05 05:43:48,527 : INFO : using 100 extra samples and 2 power iterations\n",
      "2018-10-05 05:43:48,529 : INFO : 1st phase: constructing (3990, 107) action matrix\n",
      "2018-10-05 05:43:48,576 : INFO : orthonormalizing (3990, 107) action matrix\n",
      "2018-10-05 05:43:48,705 : INFO : 2nd phase: running dense svd on (107, 4424) matrix\n",
      "2018-10-05 05:43:48,780 : INFO : computing the final decomposition\n",
      "2018-10-05 05:43:48,782 : INFO : keeping 7 factors (discarding 50.539% of energy spectrum)\n",
      "2018-10-05 05:43:48,787 : INFO : processed documents up to #4424\n",
      "2018-10-05 05:43:48,791 : INFO : topic #0(84.240): -0.523*\"#streetart\" + -0.511*\"#arteurbano\" + -0.404*\"arte\" + -0.278*\"tres\" + -0.277*\"xemeneies\" + -0.274*\"#graffiti\" + -0.242*\"#arteenlacalle\" + -0.058*\"#instagood\" + -0.050*\"#artecallejero\" + -0.043*\"#streetphotography\"\n",
      "2018-10-05 05:43:48,793 : INFO : topic #1(65.004): 0.746*\"#photodrinking\" + 0.506*\"cervecita\" + 0.271*\"drinking\" + 0.145*\"torrades\" + 0.145*\"ross\" + 0.118*\"cal\" + 0.106*\"ipa\" + 0.077*\"birrificio\" + 0.066*\"olgodbeer\" + 0.060*\"lambrate\"\n",
      "2018-10-05 05:43:48,796 : INFO : topic #2(57.917): 0.768*\"sagrada\" + 0.515*\"familia\" + 0.213*\"basílica\" + 0.184*\"família\" + 0.138*\"#sagradafamilia\" + 0.084*\"gothic\" + 0.075*\"quarter\" + 0.052*\"#gaudi\" + 0.046*\"beautiful\" + 0.042*\"gaudi\"\n",
      "2018-10-05 05:43:48,798 : INFO : topic #3(43.101): -0.442*\"#graffiti\" + -0.426*\"#artecallejero\" + -0.369*\"#streetphotography\" + -0.308*\"#catalonia\" + -0.251*\"#catalunya\" + -0.232*\"#tweegram\" + 0.218*\"#arteurbano\" + -0.214*\"#graffitiart\" + 0.179*\"arte\" + -0.165*\"#streetart\"\n",
      "2018-10-05 05:43:48,801 : INFO : topic #4(41.794): 0.521*\"tip\" + 0.520*\"insider\" + 0.436*\"experience\" + 0.435*\"food\" + 0.108*\"bar\" + 0.105*\"ticket\" + 0.097*\"travel\" + 0.095*\"dirty\" + 0.095*\"south\" + 0.095*\"#ticketsbar\"\n",
      "2018-10-05 05:43:48,808 : INFO : using serial LSI version on this node\n",
      "2018-10-05 05:43:48,810 : INFO : updating model with new documents\n",
      "2018-10-05 05:43:48,967 : INFO : preparing a new chunk of documents\n",
      "2018-10-05 05:43:49,006 : INFO : using 100 extra samples and 2 power iterations\n",
      "2018-10-05 05:43:49,009 : INFO : 1st phase: constructing (9330, 107) action matrix\n",
      "2018-10-05 05:43:49,083 : INFO : orthonormalizing (9330, 107) action matrix\n",
      "2018-10-05 05:43:49,359 : INFO : 2nd phase: running dense svd on (107, 6040) matrix\n",
      "2018-10-05 05:43:49,452 : INFO : computing the final decomposition\n",
      "2018-10-05 05:43:49,454 : INFO : keeping 7 factors (discarding 24.660% of energy spectrum)\n",
      "2018-10-05 05:43:49,461 : INFO : processed documents up to #6040\n",
      "2018-10-05 05:43:49,464 : INFO : topic #0(569.920): 0.686*\"#sagradafamilia\" + 0.417*\"sagrada\" + 0.255*\"#gaudi\" + 0.244*\"familia\" + 0.184*\"#travel\" + 0.181*\"basílica\" + 0.114*\"#summer\" + 0.111*\"#architecture\" + 0.075*\"#catalonia\" + 0.075*\"#love\"\n",
      "2018-10-05 05:43:49,467 : INFO : topic #1(245.858): -0.544*\"#streetart\" + -0.410*\"#graffiti\" + -0.304*\"#arteurbano\" + -0.268*\"#digerible\" + 0.222*\"#sagradafamilia\" + -0.199*\"urbano\" + -0.199*\"arte\" + -0.156*\"#arteenlacalle\" + -0.137*\"tres\" + -0.137*\"xemeneies\"\n",
      "2018-10-05 05:43:49,469 : INFO : topic #2(204.053): -0.541*\"#travel\" + 0.435*\"#sagradafamilia\" + -0.242*\"#summer\" + -0.215*\"#love\" + 0.186*\"#streetart\" + -0.158*\"#photography\" + 0.157*\"#arteurbano\" + 0.148*\"#digerible\" + -0.129*\"#beach\" + -0.119*\"gothic\"\n",
      "2018-10-05 05:43:49,472 : INFO : topic #3(150.729): -0.790*\"#gaudi\" + 0.277*\"#summer\" + 0.251*\"#love\" + -0.238*\"#architecture\" + 0.221*\"#sagradafamilia\" + 0.112*\"#friends\" + -0.109*\"#lapedrera\" + 0.097*\"#beach\" + 0.092*\"#sun\" + -0.056*\"#casamila\"\n",
      "2018-10-05 05:43:49,475 : INFO : topic #4(144.553): 0.691*\"#travel\" + -0.438*\"#summer\" + -0.259*\"#gaudi\" + -0.164*\"#love\" + -0.161*\"#friends\" + 0.156*\"#sagradafamilia\" + -0.119*\"#beach\" + -0.086*\"#architecture\" + -0.070*\"#catalunya\" + 0.064*\"#photography\"\n"
     ]
    }
   ],
   "source": [
    "# train LSI models with similar configurations as LDA models\n",
    "lsi_model_no_pooling = LsiModel(corpus=corpus_no_pooling, num_topics=6, id2word=dictionary_no_pooling)\n",
    "lsi_model_user_pooling = LsiModel(corpus=corpus_user_pooling, num_topics=7, id2word=dictionary_user_pooling)\n",
    "lsi_model_hashtag_pooling = LsiModel(corpus=corpus_hashtag_pooling, num_topics=7, id2word=dictionary_hashtag_pooling)"
   ]
  },
  {
   "cell_type": "code",
   "execution_count": 11,
   "metadata": {
    "collapsed": true
   },
   "outputs": [],
   "source": [
    "# extract topics with word probabilities\n",
    "lsi_topics_no_pooling = lsi_model_no_pooling.show_topics(formatted=False)\n",
    "lsi_topics_user_pooling = lsi_model_user_pooling.show_topics(formatted=False)\n",
    "lsi_topics_hashtag_pooling = lsi_model_hashtag_pooling.show_topics(formatted=False)"
   ]
  },
  {
   "cell_type": "markdown",
   "metadata": {},
   "source": [
    "## Calculate Coherence Values"
   ]
  },
  {
   "cell_type": "code",
   "execution_count": null,
   "metadata": {
    "collapsed": true
   },
   "outputs": [],
   "source": [
    "# extract top topic words\n",
    "lsi_topics_no_pooling = [[word for word, prob in topic] for topicid, topic in lsi_topics_no_pooling]\n",
    "lsi_topics_user_pooling = [[word for word, prob in topic] for topicid, topic in lsi_topics_user_pooling]\n",
    "lsi_topics_hashtag_pooling = [[word for word, prob in topic] for topicid, topic in lsi_topics_hashtag_pooling]\n",
    "\n",
    "hdp_topics_no_pooling = [[word for word, prob in topic] for topicid, topic in hdp_topics_no_pooling]\n",
    "hdp_topics_user_pooling = [[word for word, prob in topic] for topicid, topic in hdp_topics_user_pooling]\n",
    "hdp_topics_hashtag_pooling = [[word for word, prob in topic] for topicid, topic in hdp_topics_hashtag_pooling]\n",
    "\n",
    "lda_topics_no_pooling = [[word for word, prob in topic] for topicid, topic in lda_topics_no_pooling]\n",
    "lda_topics_user_pooling = [[word for word, prob in topic] for topicid, topic in lda_topics_user_pooling]\n",
    "lda_topics_hashtag_pooling = [[word for word, prob in topic] for topicid, topic in lda_topics_hashtag_pooling]"
   ]
  },
  {
   "cell_type": "code",
   "execution_count": null,
   "metadata": {},
   "outputs": [
    {
     "name": "stderr",
     "output_type": "stream",
     "text": [
      "2018-10-05 05:43:49,601 : INFO : using ParallelWordOccurrenceAccumulator(processes=3, batch_size=64) to estimate probabilities from sliding windows\n",
      "2018-10-05 05:43:54,200 : INFO : 1 batches submitted to accumulate stats from 64 documents (146 virtual)\n",
      "2018-10-05 05:43:54,203 : INFO : 2 batches submitted to accumulate stats from 128 documents (236 virtual)\n",
      "2018-10-05 05:43:54,207 : INFO : 3 batches submitted to accumulate stats from 192 documents (330 virtual)\n",
      "2018-10-05 05:43:54,212 : INFO : 4 batches submitted to accumulate stats from 256 documents (474 virtual)\n",
      "2018-10-05 05:43:54,216 : INFO : 5 batches submitted to accumulate stats from 320 documents (604 virtual)\n",
      "2018-10-05 05:43:54,219 : INFO : 6 batches submitted to accumulate stats from 384 documents (752 virtual)\n",
      "2018-10-05 05:43:54,222 : INFO : 7 batches submitted to accumulate stats from 448 documents (821 virtual)\n",
      "2018-10-05 05:43:54,227 : INFO : 8 batches submitted to accumulate stats from 512 documents (952 virtual)\n",
      "2018-10-05 05:43:54,232 : INFO : 9 batches submitted to accumulate stats from 576 documents (1075 virtual)\n",
      "2018-10-05 05:43:54,236 : INFO : 10 batches submitted to accumulate stats from 640 documents (1152 virtual)\n",
      "2018-10-05 05:43:54,241 : INFO : 11 batches submitted to accumulate stats from 704 documents (1266 virtual)\n",
      "2018-10-05 05:43:54,249 : INFO : 12 batches submitted to accumulate stats from 768 documents (1394 virtual)\n",
      "2018-10-05 05:43:54,253 : INFO : 13 batches submitted to accumulate stats from 832 documents (1514 virtual)\n",
      "2018-10-05 05:43:54,256 : INFO : 14 batches submitted to accumulate stats from 896 documents (1603 virtual)\n",
      "2018-10-05 05:43:54,263 : INFO : 15 batches submitted to accumulate stats from 960 documents (1703 virtual)\n",
      "2018-10-05 05:43:54,266 : INFO : 16 batches submitted to accumulate stats from 1024 documents (1824 virtual)\n",
      "2018-10-05 05:43:54,282 : INFO : 17 batches submitted to accumulate stats from 1088 documents (1948 virtual)\n",
      "2018-10-05 05:43:54,285 : INFO : 18 batches submitted to accumulate stats from 1152 documents (2063 virtual)\n",
      "2018-10-05 05:43:54,290 : INFO : 19 batches submitted to accumulate stats from 1216 documents (2183 virtual)\n",
      "2018-10-05 05:43:54,326 : INFO : 20 batches submitted to accumulate stats from 1280 documents (2296 virtual)\n",
      "2018-10-05 05:43:54,335 : INFO : 21 batches submitted to accumulate stats from 1344 documents (2387 virtual)\n",
      "2018-10-05 05:43:54,339 : INFO : 22 batches submitted to accumulate stats from 1408 documents (2416 virtual)\n",
      "2018-10-05 05:43:54,344 : INFO : 23 batches submitted to accumulate stats from 1472 documents (2479 virtual)\n",
      "2018-10-05 05:43:54,349 : INFO : 24 batches submitted to accumulate stats from 1536 documents (2538 virtual)\n",
      "2018-10-05 05:43:54,357 : INFO : 25 batches submitted to accumulate stats from 1600 documents (2576 virtual)\n",
      "2018-10-05 05:43:54,365 : INFO : 26 batches submitted to accumulate stats from 1664 documents (2627 virtual)\n",
      "2018-10-05 05:43:54,377 : INFO : 27 batches submitted to accumulate stats from 1728 documents (2683 virtual)\n",
      "2018-10-05 05:43:54,381 : INFO : 28 batches submitted to accumulate stats from 1792 documents (2784 virtual)\n",
      "2018-10-05 05:43:54,397 : INFO : 29 batches submitted to accumulate stats from 1856 documents (2838 virtual)\n",
      "2018-10-05 05:43:54,402 : INFO : 30 batches submitted to accumulate stats from 1920 documents (2939 virtual)\n",
      "2018-10-05 05:43:54,410 : INFO : 31 batches submitted to accumulate stats from 1984 documents (3014 virtual)\n",
      "2018-10-05 05:43:54,414 : INFO : 32 batches submitted to accumulate stats from 2048 documents (3122 virtual)\n",
      "2018-10-05 05:43:54,428 : INFO : 33 batches submitted to accumulate stats from 2112 documents (3223 virtual)\n",
      "2018-10-05 05:43:54,434 : INFO : 34 batches submitted to accumulate stats from 2176 documents (3314 virtual)\n",
      "2018-10-05 05:43:54,448 : INFO : 35 batches submitted to accumulate stats from 2240 documents (3338 virtual)\n",
      "2018-10-05 05:43:54,455 : INFO : 36 batches submitted to accumulate stats from 2304 documents (3433 virtual)\n",
      "2018-10-05 05:43:54,466 : INFO : 37 batches submitted to accumulate stats from 2368 documents (3522 virtual)\n",
      "2018-10-05 05:43:54,492 : INFO : 38 batches submitted to accumulate stats from 2432 documents (3569 virtual)\n",
      "2018-10-05 05:43:54,495 : INFO : 39 batches submitted to accumulate stats from 2496 documents (3580 virtual)\n",
      "2018-10-05 05:43:54,499 : INFO : 40 batches submitted to accumulate stats from 2560 documents (3702 virtual)\n",
      "2018-10-05 05:43:54,503 : INFO : 41 batches submitted to accumulate stats from 2624 documents (3713 virtual)\n",
      "2018-10-05 05:43:54,507 : INFO : 42 batches submitted to accumulate stats from 2688 documents (3823 virtual)\n",
      "2018-10-05 05:43:54,511 : INFO : 43 batches submitted to accumulate stats from 2752 documents (3940 virtual)\n",
      "2018-10-05 05:43:54,515 : INFO : 44 batches submitted to accumulate stats from 2816 documents (4015 virtual)\n",
      "2018-10-05 05:43:54,538 : INFO : 45 batches submitted to accumulate stats from 2880 documents (4067 virtual)\n",
      "2018-10-05 05:43:54,543 : INFO : 46 batches submitted to accumulate stats from 2944 documents (4161 virtual)\n",
      "2018-10-05 05:43:54,550 : INFO : 47 batches submitted to accumulate stats from 3008 documents (4209 virtual)\n",
      "2018-10-05 05:43:54,576 : INFO : 48 batches submitted to accumulate stats from 3072 documents (4312 virtual)\n",
      "2018-10-05 05:43:54,585 : INFO : 49 batches submitted to accumulate stats from 3136 documents (4489 virtual)\n",
      "2018-10-05 05:43:54,588 : INFO : 50 batches submitted to accumulate stats from 3200 documents (4594 virtual)\n",
      "2018-10-05 05:43:54,593 : INFO : 51 batches submitted to accumulate stats from 3264 documents (4662 virtual)\n",
      "2018-10-05 05:43:54,597 : INFO : 52 batches submitted to accumulate stats from 3328 documents (4741 virtual)\n",
      "2018-10-05 05:43:54,600 : INFO : 53 batches submitted to accumulate stats from 3392 documents (4748 virtual)\n",
      "2018-10-05 05:43:54,673 : INFO : 3 accumulators retrieved from output queue\n",
      "2018-10-05 05:43:54,693 : INFO : accumulated word occurrence stats for 8660 virtual documents\n",
      "2018-10-05 05:43:54,877 : INFO : using ParallelWordOccurrenceAccumulator(processes=3, batch_size=64) to estimate probabilities from sliding windows\n",
      "2018-10-05 05:43:59,634 : INFO : 1 batches submitted to accumulate stats from 64 documents (7248 virtual)\n",
      "2018-10-05 05:43:59,637 : INFO : 2 batches submitted to accumulate stats from 128 documents (10518 virtual)\n",
      "2018-10-05 05:43:59,644 : INFO : 3 batches submitted to accumulate stats from 192 documents (12913 virtual)\n",
      "2018-10-05 05:43:59,694 : INFO : 4 batches submitted to accumulate stats from 256 documents (14798 virtual)\n",
      "2018-10-05 05:43:59,704 : INFO : 5 batches submitted to accumulate stats from 320 documents (16367 virtual)\n",
      "2018-10-05 05:43:59,709 : INFO : 6 batches submitted to accumulate stats from 384 documents (17939 virtual)\n",
      "2018-10-05 05:43:59,714 : INFO : 7 batches submitted to accumulate stats from 448 documents (19107 virtual)\n",
      "2018-10-05 05:43:59,733 : INFO : 8 batches submitted to accumulate stats from 512 documents (20185 virtual)\n",
      "2018-10-05 05:43:59,775 : INFO : 9 batches submitted to accumulate stats from 576 documents (21155 virtual)\n",
      "2018-10-05 05:43:59,795 : INFO : 10 batches submitted to accumulate stats from 640 documents (22225 virtual)\n",
      "2018-10-05 05:43:59,837 : INFO : 11 batches submitted to accumulate stats from 704 documents (22826 virtual)\n",
      "2018-10-05 05:43:59,850 : INFO : 12 batches submitted to accumulate stats from 768 documents (23430 virtual)\n",
      "2018-10-05 05:43:59,875 : INFO : 13 batches submitted to accumulate stats from 832 documents (24043 virtual)\n",
      "2018-10-05 05:43:59,894 : INFO : 14 batches submitted to accumulate stats from 896 documents (24491 virtual)\n",
      "2018-10-05 05:43:59,902 : INFO : 15 batches submitted to accumulate stats from 960 documents (24930 virtual)\n",
      "2018-10-05 05:43:59,931 : INFO : 16 batches submitted to accumulate stats from 1024 documents (25401 virtual)\n",
      "2018-10-05 05:43:59,945 : INFO : 17 batches submitted to accumulate stats from 1088 documents (25588 virtual)\n",
      "2018-10-05 05:43:59,949 : INFO : 18 batches submitted to accumulate stats from 1152 documents (25765 virtual)\n",
      "2018-10-05 05:43:59,968 : INFO : 19 batches submitted to accumulate stats from 1216 documents (25885 virtual)\n"
     ]
    },
    {
     "name": "stderr",
     "output_type": "stream",
     "text": [
      "2018-10-05 05:43:59,978 : INFO : 20 batches submitted to accumulate stats from 1280 documents (26019 virtual)\n",
      "2018-10-05 05:43:59,984 : INFO : 21 batches submitted to accumulate stats from 1344 documents (26126 virtual)\n",
      "2018-10-05 05:43:59,998 : INFO : 22 batches submitted to accumulate stats from 1408 documents (26272 virtual)\n",
      "2018-10-05 05:44:00,004 : INFO : 23 batches submitted to accumulate stats from 1472 documents (26335 virtual)\n",
      "2018-10-05 05:44:00,012 : INFO : 24 batches submitted to accumulate stats from 1536 documents (26382 virtual)\n",
      "2018-10-05 05:44:00,021 : INFO : 25 batches submitted to accumulate stats from 1600 documents (26443 virtual)\n",
      "2018-10-05 05:44:00,044 : INFO : 26 batches submitted to accumulate stats from 1664 documents (26528 virtual)\n",
      "2018-10-05 05:44:00,055 : INFO : 27 batches submitted to accumulate stats from 1728 documents (26622 virtual)\n",
      "2018-10-05 05:44:00,060 : INFO : 28 batches submitted to accumulate stats from 1792 documents (26701 virtual)\n",
      "2018-10-05 05:44:00,067 : INFO : 29 batches submitted to accumulate stats from 1856 documents (26795 virtual)\n",
      "2018-10-05 05:44:00,084 : INFO : 30 batches submitted to accumulate stats from 1920 documents (26875 virtual)\n",
      "2018-10-05 05:44:00,091 : INFO : 31 batches submitted to accumulate stats from 1984 documents (27005 virtual)\n",
      "2018-10-05 05:44:00,095 : INFO : 32 batches submitted to accumulate stats from 2048 documents (27128 virtual)\n",
      "2018-10-05 05:44:00,100 : INFO : 33 batches submitted to accumulate stats from 2112 documents (27142 virtual)\n",
      "2018-10-05 05:44:00,136 : INFO : 3 accumulators retrieved from output queue\n",
      "2018-10-05 05:44:00,159 : INFO : accumulated word occurrence stats for 28707 virtual documents\n",
      "2018-10-05 05:44:00,335 : INFO : using ParallelWordOccurrenceAccumulator(processes=3, batch_size=64) to estimate probabilities from sliding windows\n",
      "2018-10-05 05:44:04,852 : INFO : 1 batches submitted to accumulate stats from 64 documents (2021 virtual)\n",
      "2018-10-05 05:44:04,856 : INFO : 2 batches submitted to accumulate stats from 128 documents (3773 virtual)\n",
      "2018-10-05 05:44:04,860 : INFO : 3 batches submitted to accumulate stats from 192 documents (4198 virtual)\n",
      "2018-10-05 05:44:04,883 : INFO : 4 batches submitted to accumulate stats from 256 documents (5403 virtual)\n",
      "2018-10-05 05:44:04,907 : INFO : 5 batches submitted to accumulate stats from 320 documents (6186 virtual)\n",
      "2018-10-05 05:44:04,923 : INFO : 6 batches submitted to accumulate stats from 384 documents (7191 virtual)\n",
      "2018-10-05 05:44:04,931 : INFO : 7 batches submitted to accumulate stats from 448 documents (10898 virtual)\n",
      "2018-10-05 05:44:04,945 : INFO : 8 batches submitted to accumulate stats from 512 documents (24058 virtual)\n",
      "2018-10-05 05:44:04,953 : INFO : 9 batches submitted to accumulate stats from 576 documents (25826 virtual)\n",
      "2018-10-05 05:44:04,961 : INFO : 10 batches submitted to accumulate stats from 640 documents (26771 virtual)\n",
      "2018-10-05 05:44:04,971 : INFO : 11 batches submitted to accumulate stats from 704 documents (28678 virtual)\n",
      "2018-10-05 05:44:04,991 : INFO : 12 batches submitted to accumulate stats from 768 documents (30403 virtual)\n",
      "2018-10-05 05:44:05,083 : INFO : 13 batches submitted to accumulate stats from 832 documents (31760 virtual)\n",
      "2018-10-05 05:44:05,099 : INFO : 14 batches submitted to accumulate stats from 896 documents (33435 virtual)\n",
      "2018-10-05 05:44:05,129 : INFO : 15 batches submitted to accumulate stats from 960 documents (35731 virtual)\n",
      "2018-10-05 05:44:05,188 : INFO : 16 batches submitted to accumulate stats from 1024 documents (37395 virtual)\n",
      "2018-10-05 05:44:05,201 : INFO : 17 batches submitted to accumulate stats from 1088 documents (41232 virtual)\n",
      "2018-10-05 05:44:05,258 : INFO : 18 batches submitted to accumulate stats from 1152 documents (43314 virtual)\n",
      "2018-10-05 05:44:05,262 : INFO : 19 batches submitted to accumulate stats from 1216 documents (44958 virtual)\n",
      "2018-10-05 05:44:05,311 : INFO : 20 batches submitted to accumulate stats from 1280 documents (46438 virtual)\n",
      "2018-10-05 05:44:05,348 : INFO : 21 batches submitted to accumulate stats from 1344 documents (47667 virtual)\n",
      "2018-10-05 05:44:05,389 : INFO : 22 batches submitted to accumulate stats from 1408 documents (50242 virtual)\n",
      "2018-10-05 05:44:05,450 : INFO : 23 batches submitted to accumulate stats from 1472 documents (51015 virtual)\n",
      "2018-10-05 05:44:05,454 : INFO : 24 batches submitted to accumulate stats from 1536 documents (52025 virtual)\n",
      "2018-10-05 05:44:05,483 : INFO : 25 batches submitted to accumulate stats from 1600 documents (53042 virtual)\n",
      "2018-10-05 05:44:05,498 : INFO : 26 batches submitted to accumulate stats from 1664 documents (53867 virtual)\n",
      "2018-10-05 05:44:05,518 : INFO : 27 batches submitted to accumulate stats from 1728 documents (57977 virtual)\n",
      "2018-10-05 05:44:05,545 : INFO : 28 batches submitted to accumulate stats from 1792 documents (58898 virtual)\n",
      "2018-10-05 05:44:05,565 : INFO : 29 batches submitted to accumulate stats from 1856 documents (63594 virtual)\n",
      "2018-10-05 05:44:05,571 : INFO : 30 batches submitted to accumulate stats from 1920 documents (67840 virtual)\n",
      "2018-10-05 05:44:05,611 : INFO : 31 batches submitted to accumulate stats from 1984 documents (71646 virtual)\n",
      "2018-10-05 05:44:05,623 : INFO : 32 batches submitted to accumulate stats from 2048 documents (73318 virtual)\n",
      "2018-10-05 05:44:05,654 : INFO : 33 batches submitted to accumulate stats from 2112 documents (76359 virtual)\n",
      "2018-10-05 05:44:05,726 : INFO : 34 batches submitted to accumulate stats from 2176 documents (77762 virtual)\n",
      "2018-10-05 05:44:05,787 : INFO : 35 batches submitted to accumulate stats from 2240 documents (78687 virtual)\n",
      "2018-10-05 05:44:05,796 : INFO : 36 batches submitted to accumulate stats from 2304 documents (78789 virtual)\n",
      "2018-10-05 05:44:05,922 : INFO : 3 accumulators retrieved from output queue\n",
      "2018-10-05 05:44:05,935 : INFO : accumulated word occurrence stats for 80079 virtual documents\n",
      "2018-10-05 05:44:06,107 : INFO : using ParallelWordOccurrenceAccumulator(processes=3, batch_size=64) to estimate probabilities from sliding windows\n",
      "2018-10-05 05:44:10,640 : INFO : 1 batches submitted to accumulate stats from 64 documents (163 virtual)\n",
      "2018-10-05 05:44:10,642 : INFO : 2 batches submitted to accumulate stats from 128 documents (319 virtual)\n",
      "2018-10-05 05:44:10,646 : INFO : 3 batches submitted to accumulate stats from 192 documents (444 virtual)\n",
      "2018-10-05 05:44:10,650 : INFO : 4 batches submitted to accumulate stats from 256 documents (568 virtual)\n",
      "2018-10-05 05:44:10,653 : INFO : 5 batches submitted to accumulate stats from 320 documents (765 virtual)\n",
      "2018-10-05 05:44:10,660 : INFO : 6 batches submitted to accumulate stats from 384 documents (907 virtual)\n",
      "2018-10-05 05:44:10,664 : INFO : 7 batches submitted to accumulate stats from 448 documents (1034 virtual)\n",
      "2018-10-05 05:44:10,669 : INFO : 8 batches submitted to accumulate stats from 512 documents (1158 virtual)\n",
      "2018-10-05 05:44:10,672 : INFO : 9 batches submitted to accumulate stats from 576 documents (1299 virtual)\n",
      "2018-10-05 05:44:10,681 : INFO : 10 batches submitted to accumulate stats from 640 documents (1430 virtual)\n",
      "2018-10-05 05:44:10,684 : INFO : 11 batches submitted to accumulate stats from 704 documents (1501 virtual)\n",
      "2018-10-05 05:44:10,689 : INFO : 12 batches submitted to accumulate stats from 768 documents (1607 virtual)\n",
      "2018-10-05 05:44:10,692 : INFO : 13 batches submitted to accumulate stats from 832 documents (1708 virtual)\n",
      "2018-10-05 05:44:10,699 : INFO : 14 batches submitted to accumulate stats from 896 documents (1856 virtual)\n",
      "2018-10-05 05:44:10,705 : INFO : 15 batches submitted to accumulate stats from 960 documents (1975 virtual)\n",
      "2018-10-05 05:44:10,709 : INFO : 16 batches submitted to accumulate stats from 1024 documents (2074 virtual)\n",
      "2018-10-05 05:44:10,712 : INFO : 17 batches submitted to accumulate stats from 1088 documents (2159 virtual)\n",
      "2018-10-05 05:44:10,717 : INFO : 18 batches submitted to accumulate stats from 1152 documents (2335 virtual)\n",
      "2018-10-05 05:44:10,733 : INFO : 19 batches submitted to accumulate stats from 1216 documents (2441 virtual)\n",
      "2018-10-05 05:44:10,737 : INFO : 20 batches submitted to accumulate stats from 1280 documents (2557 virtual)\n"
     ]
    },
    {
     "name": "stderr",
     "output_type": "stream",
     "text": [
      "2018-10-05 05:44:10,742 : INFO : 21 batches submitted to accumulate stats from 1344 documents (2660 virtual)\n",
      "2018-10-05 05:44:10,746 : INFO : 22 batches submitted to accumulate stats from 1408 documents (2738 virtual)\n",
      "2018-10-05 05:44:10,750 : INFO : 23 batches submitted to accumulate stats from 1472 documents (2758 virtual)\n",
      "2018-10-05 05:44:10,754 : INFO : 24 batches submitted to accumulate stats from 1536 documents (2889 virtual)\n",
      "2018-10-05 05:44:10,758 : INFO : 25 batches submitted to accumulate stats from 1600 documents (2911 virtual)\n",
      "2018-10-05 05:44:10,762 : INFO : 26 batches submitted to accumulate stats from 1664 documents (2932 virtual)\n",
      "2018-10-05 05:44:10,767 : INFO : 27 batches submitted to accumulate stats from 1728 documents (3041 virtual)\n",
      "2018-10-05 05:44:10,771 : INFO : 28 batches submitted to accumulate stats from 1792 documents (3171 virtual)\n",
      "2018-10-05 05:44:10,775 : INFO : 29 batches submitted to accumulate stats from 1856 documents (3258 virtual)\n",
      "2018-10-05 05:44:10,782 : INFO : 30 batches submitted to accumulate stats from 1920 documents (3377 virtual)\n",
      "2018-10-05 05:44:10,785 : INFO : 31 batches submitted to accumulate stats from 1984 documents (3483 virtual)\n",
      "2018-10-05 05:44:10,791 : INFO : 32 batches submitted to accumulate stats from 2048 documents (3625 virtual)\n",
      "2018-10-05 05:44:10,821 : INFO : 33 batches submitted to accumulate stats from 2112 documents (3700 virtual)\n",
      "2018-10-05 05:44:10,833 : INFO : 34 batches submitted to accumulate stats from 2176 documents (3826 virtual)\n",
      "2018-10-05 05:44:10,837 : INFO : 35 batches submitted to accumulate stats from 2240 documents (3895 virtual)\n",
      "2018-10-05 05:44:10,844 : INFO : 36 batches submitted to accumulate stats from 2304 documents (3972 virtual)\n",
      "2018-10-05 05:44:10,847 : INFO : 37 batches submitted to accumulate stats from 2368 documents (4045 virtual)\n",
      "2018-10-05 05:44:10,852 : INFO : 38 batches submitted to accumulate stats from 2432 documents (4137 virtual)\n",
      "2018-10-05 05:44:10,861 : INFO : 39 batches submitted to accumulate stats from 2496 documents (4243 virtual)\n",
      "2018-10-05 05:44:10,865 : INFO : 40 batches submitted to accumulate stats from 2560 documents (4306 virtual)\n",
      "2018-10-05 05:44:10,883 : INFO : 41 batches submitted to accumulate stats from 2624 documents (4368 virtual)\n",
      "2018-10-05 05:44:10,898 : INFO : 42 batches submitted to accumulate stats from 2688 documents (4465 virtual)\n",
      "2018-10-05 05:44:10,904 : INFO : 43 batches submitted to accumulate stats from 2752 documents (4582 virtual)\n",
      "2018-10-05 05:44:10,907 : INFO : 44 batches submitted to accumulate stats from 2816 documents (4675 virtual)\n",
      "2018-10-05 05:44:10,912 : INFO : 45 batches submitted to accumulate stats from 2880 documents (4741 virtual)\n",
      "2018-10-05 05:44:10,919 : INFO : 46 batches submitted to accumulate stats from 2944 documents (4828 virtual)\n",
      "2018-10-05 05:44:10,923 : INFO : 47 batches submitted to accumulate stats from 3008 documents (4907 virtual)\n",
      "2018-10-05 05:44:10,928 : INFO : 48 batches submitted to accumulate stats from 3072 documents (5025 virtual)\n",
      "2018-10-05 05:44:10,934 : INFO : 49 batches submitted to accumulate stats from 3136 documents (5187 virtual)\n",
      "2018-10-05 05:44:10,940 : INFO : 50 batches submitted to accumulate stats from 3200 documents (5270 virtual)\n",
      "2018-10-05 05:44:10,949 : INFO : 51 batches submitted to accumulate stats from 3264 documents (5341 virtual)\n",
      "2018-10-05 05:44:10,953 : INFO : 52 batches submitted to accumulate stats from 3328 documents (5428 virtual)\n",
      "2018-10-05 05:44:10,961 : INFO : 53 batches submitted to accumulate stats from 3392 documents (5449 virtual)\n",
      "2018-10-05 05:44:11,026 : INFO : 3 accumulators retrieved from output queue\n",
      "2018-10-05 05:44:11,076 : INFO : accumulated word occurrence stats for 9368 virtual documents\n",
      "2018-10-05 05:44:12,742 : INFO : using ParallelWordOccurrenceAccumulator(processes=3, batch_size=64) to estimate probabilities from sliding windows\n",
      "2018-10-05 05:44:17,287 : INFO : 1 batches submitted to accumulate stats from 64 documents (6408 virtual)\n",
      "2018-10-05 05:44:17,291 : INFO : 2 batches submitted to accumulate stats from 128 documents (9826 virtual)\n",
      "2018-10-05 05:44:17,297 : INFO : 3 batches submitted to accumulate stats from 192 documents (12454 virtual)\n",
      "2018-10-05 05:44:17,301 : INFO : 4 batches submitted to accumulate stats from 256 documents (14554 virtual)\n",
      "2018-10-05 05:44:17,306 : INFO : 5 batches submitted to accumulate stats from 320 documents (16290 virtual)\n",
      "2018-10-05 05:44:17,311 : INFO : 6 batches submitted to accumulate stats from 384 documents (17947 virtual)\n",
      "2018-10-05 05:44:17,376 : INFO : 7 batches submitted to accumulate stats from 448 documents (19346 virtual)\n",
      "2018-10-05 05:44:17,381 : INFO : 8 batches submitted to accumulate stats from 512 documents (20954 virtual)\n",
      "2018-10-05 05:44:17,446 : INFO : 9 batches submitted to accumulate stats from 576 documents (22140 virtual)\n",
      "2018-10-05 05:44:17,451 : INFO : 10 batches submitted to accumulate stats from 640 documents (23196 virtual)\n",
      "2018-10-05 05:44:17,461 : INFO : 11 batches submitted to accumulate stats from 704 documents (24192 virtual)\n",
      "2018-10-05 05:44:17,512 : INFO : 12 batches submitted to accumulate stats from 768 documents (25227 virtual)\n",
      "2018-10-05 05:44:17,519 : INFO : 13 batches submitted to accumulate stats from 832 documents (26245 virtual)\n",
      "2018-10-05 05:44:17,527 : INFO : 14 batches submitted to accumulate stats from 896 documents (26880 virtual)\n",
      "2018-10-05 05:44:17,568 : INFO : 15 batches submitted to accumulate stats from 960 documents (27413 virtual)\n",
      "2018-10-05 05:44:17,581 : INFO : 16 batches submitted to accumulate stats from 1024 documents (28107 virtual)\n",
      "2018-10-05 05:44:17,586 : INFO : 17 batches submitted to accumulate stats from 1088 documents (28737 virtual)\n",
      "2018-10-05 05:44:17,617 : INFO : 18 batches submitted to accumulate stats from 1152 documents (29170 virtual)\n",
      "2018-10-05 05:44:17,621 : INFO : 19 batches submitted to accumulate stats from 1216 documents (29772 virtual)\n",
      "2018-10-05 05:44:17,651 : INFO : 20 batches submitted to accumulate stats from 1280 documents (30238 virtual)\n",
      "2018-10-05 05:44:17,656 : INFO : 21 batches submitted to accumulate stats from 1344 documents (30681 virtual)\n",
      "2018-10-05 05:44:17,677 : INFO : 22 batches submitted to accumulate stats from 1408 documents (30825 virtual)\n",
      "2018-10-05 05:44:17,688 : INFO : 23 batches submitted to accumulate stats from 1472 documents (31008 virtual)\n",
      "2018-10-05 05:44:17,702 : INFO : 24 batches submitted to accumulate stats from 1536 documents (31170 virtual)\n",
      "2018-10-05 05:44:17,715 : INFO : 25 batches submitted to accumulate stats from 1600 documents (31324 virtual)\n",
      "2018-10-05 05:44:17,723 : INFO : 26 batches submitted to accumulate stats from 1664 documents (31461 virtual)\n",
      "2018-10-05 05:44:17,730 : INFO : 27 batches submitted to accumulate stats from 1728 documents (31608 virtual)\n",
      "2018-10-05 05:44:17,741 : INFO : 28 batches submitted to accumulate stats from 1792 documents (31725 virtual)\n",
      "2018-10-05 05:44:17,745 : INFO : 29 batches submitted to accumulate stats from 1856 documents (31872 virtual)\n",
      "2018-10-05 05:44:17,753 : INFO : 30 batches submitted to accumulate stats from 1920 documents (31970 virtual)\n",
      "2018-10-05 05:44:17,761 : INFO : 31 batches submitted to accumulate stats from 1984 documents (32025 virtual)\n",
      "2018-10-05 05:44:17,768 : INFO : 32 batches submitted to accumulate stats from 2048 documents (32118 virtual)\n",
      "2018-10-05 05:44:17,785 : INFO : 33 batches submitted to accumulate stats from 2112 documents (32222 virtual)\n",
      "2018-10-05 05:44:17,794 : INFO : 34 batches submitted to accumulate stats from 2176 documents (32366 virtual)\n",
      "2018-10-05 05:44:17,797 : INFO : 35 batches submitted to accumulate stats from 2240 documents (32524 virtual)\n",
      "2018-10-05 05:44:17,818 : INFO : 36 batches submitted to accumulate stats from 2304 documents (32617 virtual)\n",
      "2018-10-05 05:44:17,823 : INFO : 37 batches submitted to accumulate stats from 2368 documents (32758 virtual)\n",
      "2018-10-05 05:44:17,833 : INFO : 38 batches submitted to accumulate stats from 2432 documents (32870 virtual)\n",
      "2018-10-05 05:44:17,837 : INFO : 39 batches submitted to accumulate stats from 2496 documents (32985 virtual)\n",
      "2018-10-05 05:44:17,844 : INFO : 40 batches submitted to accumulate stats from 2560 documents (33097 virtual)\n"
     ]
    },
    {
     "name": "stderr",
     "output_type": "stream",
     "text": [
      "2018-10-05 05:44:17,851 : INFO : 41 batches submitted to accumulate stats from 2624 documents (33271 virtual)\n",
      "2018-10-05 05:44:17,853 : INFO : 42 batches submitted to accumulate stats from 2688 documents (33432 virtual)\n",
      "2018-10-05 05:44:17,866 : INFO : 43 batches submitted to accumulate stats from 2752 documents (33458 virtual)\n",
      "2018-10-05 05:44:17,924 : INFO : 3 accumulators retrieved from output queue\n",
      "2018-10-05 05:44:17,980 : INFO : accumulated word occurrence stats for 35228 virtual documents\n",
      "2018-10-05 05:44:19,331 : INFO : using ParallelWordOccurrenceAccumulator(processes=3, batch_size=64) to estimate probabilities from sliding windows\n",
      "2018-10-05 05:44:24,159 : INFO : 1 batches submitted to accumulate stats from 64 documents (2029 virtual)\n",
      "2018-10-05 05:44:24,161 : INFO : 2 batches submitted to accumulate stats from 128 documents (2609 virtual)\n",
      "2018-10-05 05:44:24,166 : INFO : 3 batches submitted to accumulate stats from 192 documents (3712 virtual)\n",
      "2018-10-05 05:44:24,170 : INFO : 4 batches submitted to accumulate stats from 256 documents (4274 virtual)\n",
      "2018-10-05 05:44:24,174 : INFO : 5 batches submitted to accumulate stats from 320 documents (4845 virtual)\n",
      "2018-10-05 05:44:24,181 : INFO : 6 batches submitted to accumulate stats from 384 documents (5429 virtual)\n",
      "2018-10-05 05:44:24,200 : INFO : 7 batches submitted to accumulate stats from 448 documents (6443 virtual)\n",
      "2018-10-05 05:44:24,238 : INFO : 8 batches submitted to accumulate stats from 512 documents (6976 virtual)\n",
      "2018-10-05 05:44:24,253 : INFO : 9 batches submitted to accumulate stats from 576 documents (7540 virtual)\n",
      "2018-10-05 05:44:24,257 : INFO : 10 batches submitted to accumulate stats from 640 documents (8414 virtual)\n",
      "2018-10-05 05:44:24,289 : INFO : 11 batches submitted to accumulate stats from 704 documents (11898 virtual)\n",
      "2018-10-05 05:44:24,314 : INFO : 12 batches submitted to accumulate stats from 768 documents (23525 virtual)\n",
      "2018-10-05 05:44:24,330 : INFO : 13 batches submitted to accumulate stats from 832 documents (25689 virtual)\n",
      "2018-10-05 05:44:24,342 : INFO : 14 batches submitted to accumulate stats from 896 documents (27218 virtual)\n",
      "2018-10-05 05:44:24,373 : INFO : 15 batches submitted to accumulate stats from 960 documents (27978 virtual)\n",
      "2018-10-05 05:44:24,418 : INFO : 16 batches submitted to accumulate stats from 1024 documents (28754 virtual)\n",
      "2018-10-05 05:44:24,522 : INFO : 17 batches submitted to accumulate stats from 1088 documents (30765 virtual)\n",
      "2018-10-05 05:44:24,550 : INFO : 18 batches submitted to accumulate stats from 1152 documents (32098 virtual)\n",
      "2018-10-05 05:44:24,615 : INFO : 19 batches submitted to accumulate stats from 1216 documents (32891 virtual)\n",
      "2018-10-05 05:44:24,633 : INFO : 20 batches submitted to accumulate stats from 1280 documents (33608 virtual)\n",
      "2018-10-05 05:44:24,669 : INFO : 21 batches submitted to accumulate stats from 1344 documents (34896 virtual)\n",
      "2018-10-05 05:44:24,728 : INFO : 22 batches submitted to accumulate stats from 1408 documents (36062 virtual)\n",
      "2018-10-05 05:44:24,737 : INFO : 23 batches submitted to accumulate stats from 1472 documents (38245 virtual)\n",
      "2018-10-05 05:44:24,786 : INFO : 24 batches submitted to accumulate stats from 1536 documents (39282 virtual)\n",
      "2018-10-05 05:44:24,791 : INFO : 25 batches submitted to accumulate stats from 1600 documents (40615 virtual)\n",
      "2018-10-05 05:44:24,831 : INFO : 26 batches submitted to accumulate stats from 1664 documents (42298 virtual)\n",
      "2018-10-05 05:44:24,865 : INFO : 27 batches submitted to accumulate stats from 1728 documents (45068 virtual)\n",
      "2018-10-05 05:44:24,872 : INFO : 28 batches submitted to accumulate stats from 1792 documents (46885 virtual)\n",
      "2018-10-05 05:44:24,926 : INFO : 29 batches submitted to accumulate stats from 1856 documents (47615 virtual)\n",
      "2018-10-05 05:44:24,949 : INFO : 30 batches submitted to accumulate stats from 1920 documents (49415 virtual)\n",
      "2018-10-05 05:44:24,968 : INFO : 31 batches submitted to accumulate stats from 1984 documents (50788 virtual)\n",
      "2018-10-05 05:44:25,015 : INFO : 32 batches submitted to accumulate stats from 2048 documents (51309 virtual)\n",
      "2018-10-05 05:44:25,059 : INFO : 33 batches submitted to accumulate stats from 2112 documents (51748 virtual)\n",
      "2018-10-05 05:44:25,081 : INFO : 34 batches submitted to accumulate stats from 2176 documents (53673 virtual)\n",
      "2018-10-05 05:44:25,115 : INFO : 35 batches submitted to accumulate stats from 2240 documents (55389 virtual)\n",
      "2018-10-05 05:44:25,164 : INFO : 36 batches submitted to accumulate stats from 2304 documents (55731 virtual)\n",
      "2018-10-05 05:44:25,168 : INFO : 37 batches submitted to accumulate stats from 2368 documents (56342 virtual)\n",
      "2018-10-05 05:44:25,186 : INFO : 38 batches submitted to accumulate stats from 2432 documents (57383 virtual)\n",
      "2018-10-05 05:44:25,192 : INFO : 39 batches submitted to accumulate stats from 2496 documents (58142 virtual)\n",
      "2018-10-05 05:44:25,220 : INFO : 40 batches submitted to accumulate stats from 2560 documents (58841 virtual)\n",
      "2018-10-05 05:44:25,264 : INFO : 41 batches submitted to accumulate stats from 2624 documents (59471 virtual)\n",
      "2018-10-05 05:44:25,288 : INFO : 42 batches submitted to accumulate stats from 2688 documents (63333 virtual)\n",
      "2018-10-05 05:44:25,304 : INFO : 43 batches submitted to accumulate stats from 2752 documents (64325 virtual)\n",
      "2018-10-05 05:44:25,336 : INFO : 44 batches submitted to accumulate stats from 2816 documents (64888 virtual)\n",
      "2018-10-05 05:44:25,348 : INFO : 45 batches submitted to accumulate stats from 2880 documents (68944 virtual)\n",
      "2018-10-05 05:44:25,376 : INFO : 46 batches submitted to accumulate stats from 2944 documents (70103 virtual)\n",
      "2018-10-05 05:44:25,384 : INFO : 47 batches submitted to accumulate stats from 3008 documents (70749 virtual)\n",
      "2018-10-05 05:44:25,421 : INFO : 48 batches submitted to accumulate stats from 3072 documents (74988 virtual)\n",
      "2018-10-05 05:44:25,429 : INFO : 49 batches submitted to accumulate stats from 3136 documents (78747 virtual)\n",
      "2018-10-05 05:44:25,502 : INFO : 50 batches submitted to accumulate stats from 3200 documents (80140 virtual)\n",
      "2018-10-05 05:44:25,542 : INFO : 51 batches submitted to accumulate stats from 3264 documents (80924 virtual)\n",
      "2018-10-05 05:44:25,547 : INFO : 52 batches submitted to accumulate stats from 3328 documents (83908 virtual)\n",
      "2018-10-05 05:44:25,631 : INFO : 53 batches submitted to accumulate stats from 3392 documents (84729 virtual)\n",
      "2018-10-05 05:44:25,681 : INFO : 54 batches submitted to accumulate stats from 3456 documents (85535 virtual)\n",
      "2018-10-05 05:44:25,709 : INFO : 55 batches submitted to accumulate stats from 3520 documents (86344 virtual)\n",
      "2018-10-05 05:44:25,722 : INFO : 56 batches submitted to accumulate stats from 3584 documents (86868 virtual)\n",
      "2018-10-05 05:44:25,879 : INFO : 3 accumulators retrieved from output queue\n",
      "2018-10-05 05:44:25,929 : INFO : accumulated word occurrence stats for 88953 virtual documents\n"
     ]
    }
   ],
   "source": [
    "# calculate coherences\n",
    "lsi_no_pooling_coherence = CoherenceModel(topics=lsi_topics_no_pooling, texts=tokenized_documents_no_pooling, dictionary=dictionary_no_pooling, window_size=10).get_coherence()\n",
    "lsi_user_pooling_coherence = CoherenceModel(topics=lsi_topics_user_pooling, texts=tokenized_documents_user_pooling, dictionary=dictionary_user_pooling, window_size=10).get_coherence()\n",
    "lsi_hashtag_pooling_coherence = CoherenceModel(topics=lsi_topics_hashtag_pooling, texts=tokenized_documents_hashtag_pooling, dictionary=dictionary_hashtag_pooling, window_size=10).get_coherence()\n",
    "\n",
    "hdp_no_pooling_coherence = CoherenceModel(topics=hdp_topics_no_pooling, texts=tokenized_documents_no_pooling, dictionary=dictionary_no_pooling, window_size=10).get_coherence()\n",
    "hdp_user_pooling_coherence = CoherenceModel(topics=hdp_topics_user_pooling, texts=tokenized_documents_user_pooling, dictionary=dictionary_user_pooling, window_size=10).get_coherence()\n",
    "hdp_hashtag_pooling_coherence = CoherenceModel(topics=hdp_topics_hashtag_pooling, texts=tokenized_documents_hashtag_pooling, dictionary=dictionary_hashtag_pooling, window_size=10).get_coherence()\n",
    "\n",
    "lda_no_pooling_coherence = CoherenceModel(topics=lda_topics_no_pooling, texts=tokenized_documents_no_pooling, dictionary=dictionary_no_pooling, window_size=10).get_coherence()\n",
    "lda_user_pooling_coherence = CoherenceModel(topics=lda_topics_user_pooling, texts=tokenized_documents_user_pooling, dictionary=dictionary_user_pooling, window_size=10).get_coherence()\n",
    "lda_hashtag_pooling_coherence = CoherenceModel(topics=lda_topics_hashtag_pooling, texts=tokenized_documents_hashtag_pooling, dictionary=dictionary_hashtag_pooling, window_size=10).get_coherence()"
   ]
  },
  {
   "cell_type": "code",
   "execution_count": null,
   "metadata": {
    "collapsed": true
   },
   "outputs": [],
   "source": [
    "# define function to plot a graph to compare coherence scores\n",
    "def evaluate_bar_graph(coherences, indices):\n",
    "    \"\"\"\n",
    "    Function to plot bar graph.\n",
    "    \n",
    "    coherences: list of coherence values\n",
    "    indices: Indices to be used to mark bars. Length of this and coherences should be equal.\n",
    "    \"\"\"\n",
    "    assert len(coherences) == len(indices)\n",
    "    n = len(coherences)\n",
    "    x = np.arange(n)\n",
    "    plt.bar(x, coherences, width=0.2, tick_label=indices, align='center', color=['red','red','red','green','green','green','blue','blue','blue'])\n",
    "    plt.xlabel('Models')\n",
    "    plt.ylabel('Coherence Value')"
   ]
  },
  {
   "cell_type": "code",
   "execution_count": null,
   "metadata": {},
   "outputs": [],
   "source": [
    "# compare coherence scores\n",
    "evaluate_bar_graph([lsi_no_pooling_coherence, lsi_user_pooling_coherence, lsi_hashtag_pooling_coherence,\n",
    "                    hdp_no_pooling_coherence, hdp_user_pooling_coherence, hdp_hashtag_pooling_coherence,\n",
    "                    lda_no_pooling_coherence, lda_user_pooling_coherence, lda_hashtag_pooling_coherence],\n",
    "                   ['LSI1', 'LSI2', 'LSI3', 'HDP1', 'HDP2',\n",
    "                    'HDP3', 'LDA1', 'LDA2', 'LDA3'])\n",
    "plt.savefig(\"topic_model_comparison\")\n",
    "plt.show()"
   ]
  },
  {
   "cell_type": "markdown",
   "metadata": {},
   "source": [
    "#### The HDP models have the best coherence scores but the topics are way too granular on inspection. In fact, the LDA achieves similar coherence scores if the number of topics is increased. But to ensure human interpretability, the number of topics is restricted to a lower number. In addition, the HDP models are very unstable on retraining. The hashtag pooling LDA model has by far the highest coherence score of the LSI and LDA models which is in line with the result after human inspection."
   ]
  }
 ],
 "metadata": {
  "kernelspec": {
   "display_name": "Python 3",
   "language": "python",
   "name": "python3"
  },
  "language_info": {
   "codemirror_mode": {
    "name": "ipython",
    "version": 3
   },
   "file_extension": ".py",
   "mimetype": "text/x-python",
   "name": "python",
   "nbconvert_exporter": "python",
   "pygments_lexer": "ipython3",
   "version": "3.6.1"
  }
 },
 "nbformat": 4,
 "nbformat_minor": 2
}
